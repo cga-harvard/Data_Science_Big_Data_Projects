{
 "cells": [
  {
   "cell_type": "code",
   "execution_count": 5,
   "id": "5daca8eb-a923-4ed4-8a3a-8ebd0dc7b45a",
   "metadata": {},
   "outputs": [
    {
     "data": {
      "text/plain": [
       "'mental health|wellbeing|psychological health|depression|depressed|hopeless|sadness|melancholy|dysthymia|anhedonia|low mood|fatigue|sleep problems|insomnia|worthlessness|guilt|concentration problems|appetite changes|suicidal thoughts|no energy|feeling empty|therapy|counseling|antidepressants|support group|mental health help|psychologist|psychiatrist|lonely|isolated|overwhelmed|anxious|stressed|#MentalHealthAwareness|#Depression|#MentalHealthMatters|#EndTheStigma'"
      ]
     },
     "execution_count": 5,
     "metadata": {},
     "output_type": "execute_result"
    }
   ],
   "source": [
    "keywords = {\n",
    "    \"general\": [\"mental health\", \"wellbeing\", \"psychological health\"],\n",
    "    \"specific_to_depression\": [\"depression\", \"depressed\", \"hopeless\", \"sadness\", \"melancholy\", \"dysthymia\", \"anhedonia\", \"low mood\"],\n",
    "    \"symptoms_and_expressions\": [\"fatigue\", \"sleep problems\", \"insomnia\", \"worthlessness\", \"guilt\", \"concentration problems\", \"appetite changes\", \"suicidal thoughts\", \"no energy\", \"feeling empty\"],\n",
    "    \"treatment_and_help_seeking\": [\"therapy\", \"counseling\", \"antidepressants\", \"support group\", \"mental health help\", \"psychologist\", \"psychiatrist\"],\n",
    "    \"social_and_emotional_indicators\": [\"lonely\", \"isolated\", \"overwhelmed\", \"anxious\", \"stressed\"],\n",
    "    \"hashtags\": [\"#MentalHealthAwareness\", \"#Depression\", \"#MentalHealthMatters\", \"#EndTheStigma\"]\n",
    "}\n",
    "q = []\n",
    "for k in keywords:\n",
    "    q += keywords[k]\n",
    "qq = \"|\".join(q)\n",
    "qq\n",
    "    "
   ]
  },
  {
   "cell_type": "code",
   "execution_count": 6,
   "id": "17a74e17-d787-456b-bd52-13467c60f7ec",
   "metadata": {},
   "outputs": [
    {
     "name": "stdout",
     "output_type": "stream",
     "text": [
      "INFO: Pandarallel will run on 60 workers.\n",
      "INFO: Pandarallel will use Memory file system to transfer data between the main process and workers.\n"
     ]
    },
    {
     "data": {
      "application/vnd.jupyter.widget-view+json": {
       "model_id": "2c0888ba2fa54a92b803cd15d76d8578",
       "version_major": 2,
       "version_minor": 0
      },
      "text/plain": [
       "VBox(children=(HBox(children=(IntProgress(value=0, description='0.00%', max=1560), Label(value='0 / 1560'))), …"
      ]
     },
     "metadata": {},
     "output_type": "display_data"
    },
    {
     "name": "stdout",
     "output_type": "stream",
     "text": [
      "CPU times: user 2min 1s, sys: 18.5 s, total: 2min 20s\n",
      "Wall time: 1h 37min 11s\n"
     ]
    }
   ],
   "source": [
    "%%time\n",
    "import pandas as pd\n",
    "from pandarallel import pandarallel\n",
    "import os\n",
    "from tqdm.notebook import tqdm,trange\n",
    "pandarallel.initialize(progress_bar=True,nb_workers=60)\n",
    "tqdm.pandas()\n",
    "\n",
    "def filter_key_words(row,q= qq):\n",
    "    df = pd.read_parquet(row[\"file_path\"])\n",
    "    # print(df.columns)\n",
    "    df = df[df[\"text\"].str.contains(q,  case=False,na=False)]\n",
    "    if not df is None:\n",
    "        if df.shape[0] !=0:\n",
    "            # df.to_parquet(row[\"out_path\"]) \n",
    "            return df\n",
    "    return None\n",
    "    # return df\n",
    "\n",
    "input_path =  \"/n/holyscratch01/cga/xiaokang/geo-tweets/merged_sentiment_twitter/\"\n",
    "out_path = \"/n/holyscratch01/cga/xiaokang/mental_health/\"\n",
    "os.makedirs(out_path,exist_ok=True)\n",
    "\n",
    "\n",
    "batches = pd.DataFrame([ {\"file_path\":input_path + file_name,\"out_path\":out_path+file_name,\"file_name\":file_name} for file_name in os.listdir(input_path) if \".parquet\" in file_name])\n",
    "# batches = batches.head()\n",
    "data = pd.concat([df for df in batches.parallel_apply(filter_key_words,axis=1).values if df is not None])\n",
    "# data = pd.concat([df for df in batches.progress_apply(filter_key_words,axis=1).values if df is not None])\n",
    "if data is not None:\n",
    "    data.to_parquet(\"%s/mental_health_2023-11-28.parquet\"%out_path)\n",
    "    # break"
   ]
  },
  {
   "cell_type": "code",
   "execution_count": 7,
   "id": "e498b80f-8702-4a9a-80bf-f4d0eb771003",
   "metadata": {},
   "outputs": [],
   "source": [
    "data[\"date_s\"] = data.date.dt.date"
   ]
  },
  {
   "cell_type": "code",
   "execution_count": 13,
   "id": "3d9dcfc5-7cad-4726-9863-78090aa86d32",
   "metadata": {},
   "outputs": [
    {
     "data": {
      "text/html": [
       "<div>\n",
       "<style scoped>\n",
       "    .dataframe tbody tr th:only-of-type {\n",
       "        vertical-align: middle;\n",
       "    }\n",
       "\n",
       "    .dataframe tbody tr th {\n",
       "        vertical-align: top;\n",
       "    }\n",
       "\n",
       "    .dataframe thead th {\n",
       "        text-align: right;\n",
       "    }\n",
       "</style>\n",
       "<table border=\"1\" class=\"dataframe\">\n",
       "  <thead>\n",
       "    <tr style=\"text-align: right;\">\n",
       "      <th></th>\n",
       "      <th>message_id</th>\n",
       "      <th>date</th>\n",
       "      <th>text</th>\n",
       "      <th>tags</th>\n",
       "      <th>tweet_lang</th>\n",
       "      <th>source</th>\n",
       "      <th>place</th>\n",
       "      <th>geom</th>\n",
       "      <th>retweets</th>\n",
       "      <th>tweet_favorites</th>\n",
       "      <th>...</th>\n",
       "      <th>user_favorites</th>\n",
       "      <th>status</th>\n",
       "      <th>user_lang</th>\n",
       "      <th>latitude</th>\n",
       "      <th>longitude</th>\n",
       "      <th>data_source</th>\n",
       "      <th>GPS</th>\n",
       "      <th>spatialerror</th>\n",
       "      <th>score</th>\n",
       "      <th>date_s</th>\n",
       "    </tr>\n",
       "  </thead>\n",
       "  <tbody>\n",
       "    <tr>\n",
       "      <th>2214</th>\n",
       "      <td>1396194363814916098</td>\n",
       "      <td>2021-05-22 20:00:51</td>\n",
       "      <td>Child hood trauma leads to severe anxiety, sev...</td>\n",
       "      <td>MentalHealthAwarenessMonth</td>\n",
       "      <td>en</td>\n",
       "      <td>&lt;a href=\"http://twitter.com/download/iphone\" r...</td>\n",
       "      <td>Pennsylvania, USA</td>\n",
       "      <td>POLYGON((-80.519851 39.719801,-80.519851 42.51...</td>\n",
       "      <td>0</td>\n",
       "      <td>0</td>\n",
       "      <td>...</td>\n",
       "      <td>4177</td>\n",
       "      <td>13442</td>\n",
       "      <td>None</td>\n",
       "      <td>41.117936500000006</td>\n",
       "      <td>-77.604684</td>\n",
       "      <td>{3}</td>\n",
       "      <td>False</td>\n",
       "      <td>219831.37663514374</td>\n",
       "      <td>0.310798</td>\n",
       "      <td>2021-05-22</td>\n",
       "    </tr>\n",
       "    <tr>\n",
       "      <th>2910</th>\n",
       "      <td>1396194427652222976</td>\n",
       "      <td>2021-05-22 20:01:06</td>\n",
       "      <td>I did not say he is guilty or not.</td>\n",
       "      <td>None</td>\n",
       "      <td>en</td>\n",
       "      <td>&lt;a href=\"http://twitter.com/download/android\" ...</td>\n",
       "      <td>Kimberley, South Africa</td>\n",
       "      <td>POLYGON((24.707953 -28.809748,24.707953 -28.68...</td>\n",
       "      <td>0</td>\n",
       "      <td>0</td>\n",
       "      <td>...</td>\n",
       "      <td>27063</td>\n",
       "      <td>2395</td>\n",
       "      <td>None</td>\n",
       "      <td>-28.745686</td>\n",
       "      <td>24.763833</td>\n",
       "      <td>{3}</td>\n",
       "      <td>False</td>\n",
       "      <td>7024.414365145757</td>\n",
       "      <td>0.296902</td>\n",
       "      <td>2021-05-22</td>\n",
       "    </tr>\n",
       "    <tr>\n",
       "      <th>2949</th>\n",
       "      <td>1396194429531213828</td>\n",
       "      <td>2021-05-22 20:01:06</td>\n",
       "      <td>@dredMMAcrypto @stacysm92154858 @EbanieBridges...</td>\n",
       "      <td>None</td>\n",
       "      <td>en</td>\n",
       "      <td>&lt;a href=\"http://twitter.com/download/android\" ...</td>\n",
       "      <td>Belfast, Northern Ireland</td>\n",
       "      <td>POLYGON((-6.036116 54.543241,-6.036116 54.6484...</td>\n",
       "      <td>0</td>\n",
       "      <td>0</td>\n",
       "      <td>...</td>\n",
       "      <td>192</td>\n",
       "      <td>1580</td>\n",
       "      <td>None</td>\n",
       "      <td>54.595869</td>\n",
       "      <td>-5.928413</td>\n",
       "      <td>{3}</td>\n",
       "      <td>False</td>\n",
       "      <td>7205.966422680896</td>\n",
       "      <td>0.735438</td>\n",
       "      <td>2021-05-22</td>\n",
       "    </tr>\n",
       "    <tr>\n",
       "      <th>3348</th>\n",
       "      <td>1396194469502926850</td>\n",
       "      <td>2021-05-22 20:01:16</td>\n",
       "      <td>MTG needs mental health care. Pay attention.</td>\n",
       "      <td>None</td>\n",
       "      <td>en</td>\n",
       "      <td>&lt;a href=\"http://twitter.com/download/iphone\" r...</td>\n",
       "      <td>West Bloomfield Township, MI</td>\n",
       "      <td>POLYGON((-83.441942 42.52605,-83.441942 42.617...</td>\n",
       "      <td>0</td>\n",
       "      <td>0</td>\n",
       "      <td>...</td>\n",
       "      <td>975</td>\n",
       "      <td>601</td>\n",
       "      <td>None</td>\n",
       "      <td>42.571954</td>\n",
       "      <td>-83.38116600000001</td>\n",
       "      <td>{3}</td>\n",
       "      <td>False</td>\n",
       "      <td>5691.893323686785</td>\n",
       "      <td>0.515247</td>\n",
       "      <td>2021-05-22</td>\n",
       "    </tr>\n",
       "    <tr>\n",
       "      <th>3624</th>\n",
       "      <td>1396194494333194249</td>\n",
       "      <td>2021-05-22 20:01:22</td>\n",
       "      <td>Even if it feels like you are trapped, There i...</td>\n",
       "      <td>mentalhealth,mentalhealthawareness,suicideprev...</td>\n",
       "      <td>en</td>\n",
       "      <td>&lt;a href=\"http://instagram.com\" rel=\"nofollow\"&gt;...</td>\n",
       "      <td>Los Angeles, CA</td>\n",
       "      <td>POINT(-118.25 34.03938)</td>\n",
       "      <td>0</td>\n",
       "      <td>0</td>\n",
       "      <td>...</td>\n",
       "      <td>1552</td>\n",
       "      <td>11997</td>\n",
       "      <td>None</td>\n",
       "      <td>34.03938</td>\n",
       "      <td>-118.25</td>\n",
       "      <td>{3}</td>\n",
       "      <td>True</td>\n",
       "      <td>10.0</td>\n",
       "      <td>0.539588</td>\n",
       "      <td>2021-05-22</td>\n",
       "    </tr>\n",
       "  </tbody>\n",
       "</table>\n",
       "<p>5 rows × 27 columns</p>\n",
       "</div>"
      ],
      "text/plain": [
       "               message_id                date  \\\n",
       "2214  1396194363814916098 2021-05-22 20:00:51   \n",
       "2910  1396194427652222976 2021-05-22 20:01:06   \n",
       "2949  1396194429531213828 2021-05-22 20:01:06   \n",
       "3348  1396194469502926850 2021-05-22 20:01:16   \n",
       "3624  1396194494333194249 2021-05-22 20:01:22   \n",
       "\n",
       "                                                   text  \\\n",
       "2214  Child hood trauma leads to severe anxiety, sev...   \n",
       "2910                 I did not say he is guilty or not.   \n",
       "2949  @dredMMAcrypto @stacysm92154858 @EbanieBridges...   \n",
       "3348       MTG needs mental health care. Pay attention.   \n",
       "3624  Even if it feels like you are trapped, There i...   \n",
       "\n",
       "                                                   tags tweet_lang  \\\n",
       "2214                         MentalHealthAwarenessMonth         en   \n",
       "2910                                               None         en   \n",
       "2949                                               None         en   \n",
       "3348                                               None         en   \n",
       "3624  mentalhealth,mentalhealthawareness,suicideprev...         en   \n",
       "\n",
       "                                                 source  \\\n",
       "2214  <a href=\"http://twitter.com/download/iphone\" r...   \n",
       "2910  <a href=\"http://twitter.com/download/android\" ...   \n",
       "2949  <a href=\"http://twitter.com/download/android\" ...   \n",
       "3348  <a href=\"http://twitter.com/download/iphone\" r...   \n",
       "3624  <a href=\"http://instagram.com\" rel=\"nofollow\">...   \n",
       "\n",
       "                             place  \\\n",
       "2214             Pennsylvania, USA   \n",
       "2910       Kimberley, South Africa   \n",
       "2949     Belfast, Northern Ireland   \n",
       "3348  West Bloomfield Township, MI   \n",
       "3624               Los Angeles, CA   \n",
       "\n",
       "                                                   geom retweets  \\\n",
       "2214  POLYGON((-80.519851 39.719801,-80.519851 42.51...        0   \n",
       "2910  POLYGON((24.707953 -28.809748,24.707953 -28.68...        0   \n",
       "2949  POLYGON((-6.036116 54.543241,-6.036116 54.6484...        0   \n",
       "3348  POLYGON((-83.441942 42.52605,-83.441942 42.617...        0   \n",
       "3624                            POINT(-118.25 34.03938)        0   \n",
       "\n",
       "     tweet_favorites  ... user_favorites status user_lang            latitude  \\\n",
       "2214               0  ...           4177  13442      None  41.117936500000006   \n",
       "2910               0  ...          27063   2395      None          -28.745686   \n",
       "2949               0  ...            192   1580      None           54.595869   \n",
       "3348               0  ...            975    601      None           42.571954   \n",
       "3624               0  ...           1552  11997      None            34.03938   \n",
       "\n",
       "               longitude data_source    GPS        spatialerror     score  \\\n",
       "2214          -77.604684         {3}  False  219831.37663514374  0.310798   \n",
       "2910           24.763833         {3}  False   7024.414365145757  0.296902   \n",
       "2949           -5.928413         {3}  False   7205.966422680896  0.735438   \n",
       "3348  -83.38116600000001         {3}  False   5691.893323686785  0.515247   \n",
       "3624             -118.25         {3}   True                10.0  0.539588   \n",
       "\n",
       "          date_s  \n",
       "2214  2021-05-22  \n",
       "2910  2021-05-22  \n",
       "2949  2021-05-22  \n",
       "3348  2021-05-22  \n",
       "3624  2021-05-22  \n",
       "\n",
       "[5 rows x 27 columns]"
      ]
     },
     "execution_count": 13,
     "metadata": {},
     "output_type": "execute_result"
    }
   ],
   "source": [
    "data.head()"
   ]
  },
  {
   "cell_type": "code",
   "execution_count": 8,
   "id": "ecb77e47-3650-46f6-acfc-16aecbb8ff6c",
   "metadata": {},
   "outputs": [
    {
     "name": "stdout",
     "output_type": "stream",
     "text": [
      "CPU times: user 29.1 s, sys: 2.06 s, total: 31.1 s\n",
      "Wall time: 31.2 s\n"
     ]
    }
   ],
   "source": [
    "%%time\n",
    "temp = data.groupby(\"date_s\").count()[\"message_id\"]"
   ]
  },
  {
   "cell_type": "code",
   "execution_count": 15,
   "id": "6e42db00-859d-4fc9-b54d-da092b8fc079",
   "metadata": {},
   "outputs": [
    {
     "data": {
      "text/plain": [
       "(14656280, 27)"
      ]
     },
     "execution_count": 15,
     "metadata": {},
     "output_type": "execute_result"
    }
   ],
   "source": [
    "data.shape"
   ]
  },
  {
   "cell_type": "code",
   "execution_count": 9,
   "id": "a8a5b7da-5fbd-4935-8f31-25dbee940e67",
   "metadata": {},
   "outputs": [
    {
     "data": {
      "text/plain": [
       "date_s\n",
       "2011-07-06     1\n",
       "2011-12-31     1\n",
       "2012-01-02    25\n",
       "2012-01-03    44\n",
       "2012-01-04    27\n",
       "Name: message_id, dtype: int64"
      ]
     },
     "execution_count": 9,
     "metadata": {},
     "output_type": "execute_result"
    }
   ],
   "source": [
    "temp.head()"
   ]
  },
  {
   "cell_type": "code",
   "execution_count": 10,
   "id": "55ea8f4d-9599-46b0-a946-94379ca3fe28",
   "metadata": {},
   "outputs": [
    {
     "data": {
      "image/png": "[encoded data removed]",
      "text/plain": [
       "<Figure size 432x288 with 1 Axes>"
      ]
     },
     "metadata": {
      "needs_background": "light"
     },
     "output_type": "display_data"
    }
   ],
   "source": [
    "temp.plot();"
   ]
  },
  {
   "cell_type": "code",
   "execution_count": 12,
   "id": "d36cf4d2-6319-4c80-a718-fd40c97ace26",
   "metadata": {},
   "outputs": [
    {
     "data": {
      "text/plain": [
       "date_s\n",
       "2011-07-06     1\n",
       "2011-12-31     1\n",
       "2012-01-02    25\n",
       "2012-01-03    44\n",
       "2012-01-04    27\n",
       "Name: message_id, dtype: int64"
      ]
     },
     "execution_count": 12,
     "metadata": {},
     "output_type": "execute_result"
    }
   ],
   "source": [
    "temp.head()"
   ]
  },
  {
   "cell_type": "code",
   "execution_count": 11,
   "id": "dee78793-0356-4e30-8256-8e19ae19a298",
   "metadata": {},
   "outputs": [
    {
     "data": {
      "image/png": "[encoded data removed]",
      "text/plain": [
       "<Figure size 432x288 with 1 Axes>"
      ]
     },
     "metadata": {
      "needs_background": "light"
     },
     "output_type": "display_data"
    }
   ],
   "source": [
    "temp.sort_index().plot();"
   ]
  }
 ],
 "metadata": {
  "kernelspec": {
   "display_name": "Python [conda env:geo_tweets_xiaokang-ox_kang]",
   "language": "python",
   "name": "conda-env-geo_tweets_xiaokang-ox_kang-py"
  },
  "language_info": {
   "codemirror_mode": {
    "name": "ipython",
    "version": 3
   },
   "file_extension": ".py",
   "mimetype": "text/x-python",
   "name": "python",
   "nbconvert_exporter": "python",
   "pygments_lexer": "ipython3",
   "version": "3.9.15"
  },
  "widgets": {
   "application/vnd.jupyter.widget-state+json": {
    "state": {
     "006c473feedb433b93e419ffa36a0583": {
      "model_module": "@jupyter-widgets/controls",
      "model_module_version": "1.5.0",
      "model_name": "HBoxModel",
      "state": {
       "children": [
        "IPY_MODEL_dccf7a721b9b43109f2a713932d313bf",
        "IPY_MODEL_bcdc8968ad614060a02e4880cb99678f"
       ],
       "layout": "IPY_MODEL_c665ef5a99f0498f8a4d5a3159bf5392"
      }
     },
     "00bf68540ef04988a4d22e0390aefbce": {
      "model_module": "@jupyter-widgets/controls",
      "model_module_version": "1.5.0",
      "model_name": "HBoxModel",
      "state": {
       "children": [
        "IPY_MODEL_b1dfce6692a74b33a3d54a5372647738",
        "IPY_MODEL_f83024058c8e4905a7e3b44d2fcb6a08"
       ],
       "layout": "IPY_MODEL_7eab2ff91d32435093e79ad87a2acec3"
      }
     },
     "02e4f57502484471bb676f9204c56ffa": {
      "model_module": "@jupyter-widgets/controls",
      "model_module_version": "1.5.0",
      "model_name": "IntProgressModel",
      "state": {
       "bar_style": "success",
       "description": "100.00%",
       "layout": "IPY_MODEL_b0322cd07ed24e3f9f35270228599067",
       "max": 1560,
       "style": "IPY_MODEL_43bef043f41c49deacfcc60933a8deca",
       "value": 1560
      }
     },
     "03221780f9c1411d8f0781f8ad627ae8": {
      "model_module": "@jupyter-widgets/controls",
      "model_module_version": "1.5.0",
      "model_name": "ProgressStyleModel",
      "state": {
       "description_width": ""
      }
     },
     "034068774cdf4fcd839ad031bd519a98": {
      "model_module": "@jupyter-widgets/controls",
      "model_module_version": "1.5.0",
      "model_name": "IntProgressModel",
      "state": {
       "bar_style": "success",
       "description": "100.00%",
       "layout": "IPY_MODEL_e80a69b86f61432886dd32b3e8966339",
       "max": 1560,
       "style": "IPY_MODEL_609f957b56404fb69665e7b36c106257",
       "value": 1560
      }
     },
     "03ee14f7b4e44357924ef3e2be1b6a5e": {
      "model_module": "@jupyter-widgets/controls",
      "model_module_version": "1.5.0",
      "model_name": "ProgressStyleModel",
      "state": {
       "description_width": ""
      }
     },
     "04111a355d9841c0993466efab74edd1": {
      "model_module": "@jupyter-widgets/controls",
      "model_module_version": "1.5.0",
      "model_name": "ProgressStyleModel",
      "state": {
       "description_width": ""
      }
     },
     "041d630b1a4d48a5b17e7f9c9bc206e5": {
      "model_module": "@jupyter-widgets/base",
      "model_module_version": "1.2.0",
      "model_name": "LayoutModel",
      "state": {}
     },
     "04bc737f0aeb44d0b7877a687711917f": {
      "model_module": "@jupyter-widgets/controls",
      "model_module_version": "1.5.0",
      "model_name": "DescriptionStyleModel",
      "state": {
       "description_width": ""
      }
     },
     "058179a7532a4ec4aabd7a80cb7b608c": {
      "model_module": "@jupyter-widgets/controls",
      "model_module_version": "1.5.0",
      "model_name": "ProgressStyleModel",
      "state": {
       "description_width": ""
      }
     },
     "059160cd79e947f68da59170f2fb1b84": {
      "model_module": "@jupyter-widgets/controls",
      "model_module_version": "1.5.0",
      "model_name": "DescriptionStyleModel",
      "state": {
       "description_width": ""
      }
     },
     "05dad2b5d08e47948abb159feadff20b": {
      "model_module": "@jupyter-widgets/controls",
      "model_module_version": "1.5.0",
      "model_name": "HBoxModel",
      "state": {
       "children": [
        "IPY_MODEL_b05672d6aaee42339b5925e482049ed9",
        "IPY_MODEL_47901281c64a4dd4aa690ae41442631c"
       ],
       "layout": "IPY_MODEL_f9f225f78e0c40198cc04ddfa7005a59"
      }
     },
     "05ea21a38da5477a8de5a162c9885850": {
      "model_module": "@jupyter-widgets/base",
      "model_module_version": "1.2.0",
      "model_name": "LayoutModel",
      "state": {}
     },
     "062f7b825a3d4190bc8df564c152fa47": {
      "model_module": "@jupyter-widgets/base",
      "model_module_version": "1.2.0",
      "model_name": "LayoutModel",
      "state": {}
     },
     "06458cd223144d378d789d08ee3ea2d1": {
      "model_module": "@jupyter-widgets/controls",
      "model_module_version": "1.5.0",
      "model_name": "DescriptionStyleModel",
      "state": {
       "description_width": ""
      }
     },
     "081064a1c0934402b0220f725191cf82": {
      "model_module": "@jupyter-widgets/base",
      "model_module_version": "1.2.0",
      "model_name": "LayoutModel",
      "state": {}
     },
     "0851920aec944e548ebb4c2be46d99dd": {
      "model_module": "@jupyter-widgets/controls",
      "model_module_version": "1.5.0",
      "model_name": "DescriptionStyleModel",
      "state": {
       "description_width": ""
      }
     },
     "086c1fba1b3b48659fadff4aadd0c4d1": {
      "model_module": "@jupyter-widgets/base",
      "model_module_version": "1.2.0",
      "model_name": "LayoutModel",
      "state": {}
     },
     "08ad24bd1f944617bfff0859a35aa86a": {
      "model_module": "@jupyter-widgets/controls",
      "model_module_version": "1.5.0",
      "model_name": "LabelModel",
      "state": {
       "layout": "IPY_MODEL_1592d34d308b4844a48b10a3fe4e09ca",
       "style": "IPY_MODEL_0851920aec944e548ebb4c2be46d99dd",
       "value": "1559 / 1559"
      }
     },
     "093abf7054524aa7805492fe0a8c0e5a": {
      "model_module": "@jupyter-widgets/controls",
      "model_module_version": "1.5.0",
      "model_name": "DescriptionStyleModel",
      "state": {
       "description_width": ""
      }
     },
     "0a1e27d31d47468184a19522c2565415": {
      "model_module": "@jupyter-widgets/base",
      "model_module_version": "1.2.0",
      "model_name": "LayoutModel",
      "state": {}
     },
     "0a6a02e68ef44d839b94cf14a1125b0d": {
      "model_module": "@jupyter-widgets/controls",
      "model_module_version": "1.5.0",
      "model_name": "DescriptionStyleModel",
      "state": {
       "description_width": ""
      }
     },
     "0cc1829a909b436aab649bb43011b27e": {
      "model_module": "@jupyter-widgets/controls",
      "model_module_version": "1.5.0",
      "model_name": "IntProgressModel",
      "state": {
       "bar_style": "success",
       "description": "100.00%",
       "layout": "IPY_MODEL_b2346dd48739458a914092ea45f4bbe9",
       "max": 1559,
       "style": "IPY_MODEL_82ca167781e0492091b7bb2cdda0bdff",
       "value": 1559
      }
     },
     "0d11ba68a3c04487b0b4243b0d771707": {
      "model_module": "@jupyter-widgets/controls",
      "model_module_version": "1.5.0",
      "model_name": "ProgressStyleModel",
      "state": {
       "description_width": ""
      }
     },
     "0d33032691864256b7d2402bbd84febc": {
      "model_module": "@jupyter-widgets/controls",
      "model_module_version": "1.5.0",
      "model_name": "DescriptionStyleModel",
      "state": {
       "description_width": ""
      }
     },
     "0d39199efbfb40c2af632c2c33323595": {
      "model_module": "@jupyter-widgets/controls",
      "model_module_version": "1.5.0",
      "model_name": "LabelModel",
      "state": {
       "layout": "IPY_MODEL_a822a792268745f1bdf799b31b51c018",
       "style": "IPY_MODEL_6e02100dfee44d5194febbd0b08b6d20",
       "value": "1560 / 1560"
      }
     },
     "0e05d337a5cc4aa2a3fe3cf00db7476e": {
      "model_module": "@jupyter-widgets/controls",
      "model_module_version": "1.5.0",
      "model_name": "LabelModel",
      "state": {
       "layout": "IPY_MODEL_a2b749e2ef724185a8f306883faa3666",
       "style": "IPY_MODEL_fcb112da04da4f92bbbb25dcda31523b",
       "value": "1559 / 1559"
      }
     },
     "0e49df75eb59445e945a99b843274b91": {
      "model_module": "@jupyter-widgets/base",
      "model_module_version": "1.2.0",
      "model_name": "LayoutModel",
      "state": {}
     },
     "0e8f9a8d932e41d08b359598c763d07b": {
      "model_module": "@jupyter-widgets/base",
      "model_module_version": "1.2.0",
      "model_name": "LayoutModel",
      "state": {}
     },
     "0ec54051078546a4a63224e250119569": {
      "model_module": "@jupyter-widgets/base",
      "model_module_version": "1.2.0",
      "model_name": "LayoutModel",
      "state": {}
     },
     "0f677e3e24b04a6d8d8c0f6e34e1ad97": {
      "model_module": "@jupyter-widgets/base",
      "model_module_version": "1.2.0",
      "model_name": "LayoutModel",
      "state": {}
     },
     "0f6dc73054ee40d7a272277f3bfe9d64": {
      "model_module": "@jupyter-widgets/base",
      "model_module_version": "1.2.0",
      "model_name": "LayoutModel",
      "state": {}
     },
     "0fab8e5669c9468ebd1aade53fb540ce": {
      "model_module": "@jupyter-widgets/controls",
      "model_module_version": "1.5.0",
      "model_name": "HBoxModel",
      "state": {
       "children": [
        "IPY_MODEL_dd294e735a5246cdb0541c0ce217c46d",
        "IPY_MODEL_dd006d542360439a89fe9a0eb40c8fd5"
       ],
       "layout": "IPY_MODEL_8a56e27c23db4a569c157685bc3fd5b8"
      }
     },
     "10793b4eb2384516b9c644afd87b3154": {
      "model_module": "@jupyter-widgets/controls",
      "model_module_version": "1.5.0",
      "model_name": "ProgressStyleModel",
      "state": {
       "description_width": ""
      }
     },
     "11eb4bd04c934fb4ba68c042a3702ef1": {
      "model_module": "@jupyter-widgets/controls",
      "model_module_version": "1.5.0",
      "model_name": "LabelModel",
      "state": {
       "layout": "IPY_MODEL_1e20c400235848cab13a5b34c3ff50c6",
       "style": "IPY_MODEL_0d33032691864256b7d2402bbd84febc",
       "value": "1559 / 1559"
      }
     },
     "12001d3b60524cdbb9892a8badc427ed": {
      "model_module": "@jupyter-widgets/base",
      "model_module_version": "1.2.0",
      "model_name": "LayoutModel",
      "state": {}
     },
     "122f56b531cf41e79142976a9402416e": {
      "model_module": "@jupyter-widgets/base",
      "model_module_version": "1.2.0",
      "model_name": "LayoutModel",
      "state": {}
     },
     "12b324c533c6415a828eeef1121873a8": {
      "model_module": "@jupyter-widgets/base",
      "model_module_version": "1.2.0",
      "model_name": "LayoutModel",
      "state": {}
     },
     "12ef766da84c4523b21294cae7290cb6": {
      "model_module": "@jupyter-widgets/controls",
      "model_module_version": "1.5.0",
      "model_name": "HBoxModel",
      "state": {
       "children": [
        "IPY_MODEL_b8bae3b746804e718f76da34baa01420",
        "IPY_MODEL_e0fc989d9c7245a3ae5d83d173779bfd"
       ],
       "layout": "IPY_MODEL_fbc7e35ecf464059a92a977cb6340a21"
      }
     },
     "14215cc6f258448bb23bd818b1e1c0ce": {
      "model_module": "@jupyter-widgets/base",
      "model_module_version": "1.2.0",
      "model_name": "LayoutModel",
      "state": {}
     },
     "14a85186bc7f43d6ba83728922734d98": {
      "model_module": "@jupyter-widgets/base",
      "model_module_version": "1.2.0",
      "model_name": "LayoutModel",
      "state": {}
     },
     "1559fc4f45884485a3eea71a728c82f1": {
      "model_module": "@jupyter-widgets/controls",
      "model_module_version": "1.5.0",
      "model_name": "LabelModel",
      "state": {
       "layout": "IPY_MODEL_417b477a5bdd481b854729405241314f",
       "style": "IPY_MODEL_91ea3064bf8740819219a473cd5ee593",
       "value": "1560 / 1560"
      }
     },
     "156bc4be745644668163ae9c7ff8ccf4": {
      "model_module": "@jupyter-widgets/controls",
      "model_module_version": "1.5.0",
      "model_name": "IntProgressModel",
      "state": {
       "bar_style": "success",
       "description": "100.00%",
       "layout": "IPY_MODEL_44b168d157ac4c01bc63fd76ab6a1776",
       "max": 1560,
       "style": "IPY_MODEL_b2cd2d8e94d74685854eac5d495aa082",
       "value": 1560
      }
     },
     "1592d34d308b4844a48b10a3fe4e09ca": {
      "model_module": "@jupyter-widgets/base",
      "model_module_version": "1.2.0",
      "model_name": "LayoutModel",
      "state": {}
     },
     "15fb47fb2d2247b0a0efc78889124547": {
      "model_module": "@jupyter-widgets/base",
      "model_module_version": "1.2.0",
      "model_name": "LayoutModel",
      "state": {}
     },
     "16cf22be40d745608cf517e63cb9ca6d": {
      "model_module": "@jupyter-widgets/base",
      "model_module_version": "1.2.0",
      "model_name": "LayoutModel",
      "state": {}
     },
     "17152ef8aa6c49afa3551aacb66f6c2b": {
      "model_module": "@jupyter-widgets/base",
      "model_module_version": "1.2.0",
      "model_name": "LayoutModel",
      "state": {}
     },
     "171d05ece1614383a8fd3d9da4184e75": {
      "model_module": "@jupyter-widgets/controls",
      "model_module_version": "1.5.0",
      "model_name": "LabelModel",
      "state": {
       "layout": "IPY_MODEL_7559e49afb8046738d935d0e7f31101e",
       "style": "IPY_MODEL_9d9c15c10e144e628df98abf54286cf9",
       "value": "1559 / 1559"
      }
     },
     "1749a647a0264f1c9547193f2af9c3d0": {
      "model_module": "@jupyter-widgets/controls",
      "model_module_version": "1.5.0",
      "model_name": "LabelModel",
      "state": {
       "layout": "IPY_MODEL_14a85186bc7f43d6ba83728922734d98",
       "style": "IPY_MODEL_56b341acba0049189f678d2764f04dac",
       "value": "1559 / 1559"
      }
     },
     "1793414d7659439d96baa0abfb2e3eaf": {
      "model_module": "@jupyter-widgets/controls",
      "model_module_version": "1.5.0",
      "model_name": "ProgressStyleModel",
      "state": {
       "description_width": ""
      }
     },
     "183b81b8d1d64285a3a9c573a623be97": {
      "model_module": "@jupyter-widgets/base",
      "model_module_version": "1.2.0",
      "model_name": "LayoutModel",
      "state": {}
     },
     "1869e37f69d548d181d98f297f2515ec": {
      "model_module": "@jupyter-widgets/base",
      "model_module_version": "1.2.0",
      "model_name": "LayoutModel",
      "state": {}
     },
     "19c359630bc642a2aec9f89fd6d32cd1": {
      "model_module": "@jupyter-widgets/base",
      "model_module_version": "1.2.0",
      "model_name": "LayoutModel",
      "state": {}
     },
     "1b62a49db5174190ae0ab9c4ecc8fdfc": {
      "model_module": "@jupyter-widgets/controls",
      "model_module_version": "1.5.0",
      "model_name": "ProgressStyleModel",
      "state": {
       "description_width": ""
      }
     },
     "1c030f5b1bd44776a4035cdbba372a61": {
      "model_module": "@jupyter-widgets/controls",
      "model_module_version": "1.5.0",
      "model_name": "IntProgressModel",
      "state": {
       "bar_style": "success",
       "description": "100.00%",
       "layout": "IPY_MODEL_27a4856fbdb946ee8a879c287de050cb",
       "max": 1560,
       "style": "IPY_MODEL_9a9815d2400e423ea61b832649052e70",
       "value": 1560
      }
     },
     "1c08dcc25fd34b43b3e19a4b8f6a746b": {
      "model_module": "@jupyter-widgets/controls",
      "model_module_version": "1.5.0",
      "model_name": "IntProgressModel",
      "state": {
       "bar_style": "success",
       "description": "100.00%",
       "layout": "IPY_MODEL_5cd53cce85554d988bb422a97e58cb43",
       "max": 1559,
       "style": "IPY_MODEL_10793b4eb2384516b9c644afd87b3154",
       "value": 1559
      }
     },
     "1c346ea6ca564aa4b058dc72a3d42918": {
      "model_module": "@jupyter-widgets/base",
      "model_module_version": "1.2.0",
      "model_name": "LayoutModel",
      "state": {}
     },
     "1df6e7d5caf3499a8c31943145a46e86": {
      "model_module": "@jupyter-widgets/controls",
      "model_module_version": "1.5.0",
      "model_name": "IntProgressModel",
      "state": {
       "bar_style": "success",
       "description": "100.00%",
       "layout": "IPY_MODEL_a96d14707bf14406b388106d3c070ccb",
       "max": 1560,
       "style": "IPY_MODEL_1793414d7659439d96baa0abfb2e3eaf",
       "value": 1560
      }
     },
     "1e20c400235848cab13a5b34c3ff50c6": {
      "model_module": "@jupyter-widgets/base",
      "model_module_version": "1.2.0",
      "model_name": "LayoutModel",
      "state": {}
     },
     "1e5716650792470cbe535ab9d9f8e32b": {
      "model_module": "@jupyter-widgets/base",
      "model_module_version": "1.2.0",
      "model_name": "LayoutModel",
      "state": {}
     },
     "1f40c5d26af948d1aeb5ceb8255f986f": {
      "model_module": "@jupyter-widgets/base",
      "model_module_version": "1.2.0",
      "model_name": "LayoutModel",
      "state": {}
     },
     "1f432223a5954773909d43cbb498d6fd": {
      "model_module": "@jupyter-widgets/controls",
      "model_module_version": "1.5.0",
      "model_name": "IntProgressModel",
      "state": {
       "bar_style": "success",
       "description": "100.00%",
       "layout": "IPY_MODEL_bc45f96290e6431e9e6bff0da16c4349",
       "max": 1559,
       "style": "IPY_MODEL_c5a94225f0d041f8a181e5ae4bac0f0d",
       "value": 1559
      }
     },
     "1fb32253cc7c4f3694c54e2c6a289530": {
      "model_module": "@jupyter-widgets/controls",
      "model_module_version": "1.5.0",
      "model_name": "LabelModel",
      "state": {
       "layout": "IPY_MODEL_9ac2ae40d46b43f1aa0cd99b256b5683",
       "style": "IPY_MODEL_f6fa4f1d4661420cb2e61eb7c0371ff2",
       "value": "1560 / 1560"
      }
     },
     "205b18e7da634b9fbba0eb3ef5d42ae1": {
      "model_module": "@jupyter-widgets/controls",
      "model_module_version": "1.5.0",
      "model_name": "LabelModel",
      "state": {
       "layout": "IPY_MODEL_df90d9945a4b48c9a7da0c177b576b59",
       "style": "IPY_MODEL_9655a88f1f1d4537bb2f197ae1b1b77b",
       "value": "1559 / 1559"
      }
     },
     "21397ab261ea4d6584a1570b95a503f0": {
      "model_module": "@jupyter-widgets/controls",
      "model_module_version": "1.5.0",
      "model_name": "IntProgressModel",
      "state": {
       "bar_style": "success",
       "description": "100.00%",
       "layout": "IPY_MODEL_56ae7f4baf2d4931a358bf504837c79d",
       "max": 1559,
       "style": "IPY_MODEL_cf367c4616564135aeef9351e6700a0f",
       "value": 1559
      }
     },
     "21a58cf8c6f44bdb9219b5ba2729b895": {
      "model_module": "@jupyter-widgets/controls",
      "model_module_version": "1.5.0",
      "model_name": "HBoxModel",
      "state": {
       "children": [
        "IPY_MODEL_83b6e6d133f94ce1bcdc01ffab500686",
        "IPY_MODEL_b9b928cecd04450c9c4a38c14501b593"
       ],
       "layout": "IPY_MODEL_0e8f9a8d932e41d08b359598c763d07b"
      }
     },
     "221225fb88524d72a50d645d599ee600": {
      "model_module": "@jupyter-widgets/base",
      "model_module_version": "1.2.0",
      "model_name": "LayoutModel",
      "state": {}
     },
     "22809ded9cc94e4fb3890b100e31461f": {
      "model_module": "@jupyter-widgets/base",
      "model_module_version": "1.2.0",
      "model_name": "LayoutModel",
      "state": {}
     },
     "23393873ddbc4eb6873f77eb3e9707a2": {
      "model_module": "@jupyter-widgets/base",
      "model_module_version": "1.2.0",
      "model_name": "LayoutModel",
      "state": {}
     },
     "241a7a8bfeec489689c7db73bea98a68": {
      "model_module": "@jupyter-widgets/base",
      "model_module_version": "1.2.0",
      "model_name": "LayoutModel",
      "state": {}
     },
     "25903d1e92864cdda0026bd8c9a735e4": {
      "model_module": "@jupyter-widgets/base",
      "model_module_version": "1.2.0",
      "model_name": "LayoutModel",
      "state": {}
     },
     "263356eee32249b8a4500e2d524f6678": {
      "model_module": "@jupyter-widgets/base",
      "model_module_version": "1.2.0",
      "model_name": "LayoutModel",
      "state": {}
     },
     "267bf5698e0d4a51a73d56a8945802c0": {
      "model_module": "@jupyter-widgets/base",
      "model_module_version": "1.2.0",
      "model_name": "LayoutModel",
      "state": {}
     },
     "269c7bf439c7406a956fa488fbe4287d": {
      "model_module": "@jupyter-widgets/controls",
      "model_module_version": "1.5.0",
      "model_name": "ProgressStyleModel",
      "state": {
       "description_width": ""
      }
     },
     "26b65836eae64a11a56d6e153695a063": {
      "model_module": "@jupyter-widgets/controls",
      "model_module_version": "1.5.0",
      "model_name": "LabelModel",
      "state": {
       "layout": "IPY_MODEL_0ec54051078546a4a63224e250119569",
       "style": "IPY_MODEL_86312fd95d1240c9bd808547ad60d261",
       "value": "1559 / 1559"
      }
     },
     "27a4856fbdb946ee8a879c287de050cb": {
      "model_module": "@jupyter-widgets/base",
      "model_module_version": "1.2.0",
      "model_name": "LayoutModel",
      "state": {}
     },
     "29050e895b1b4ca891f7d09bb11e4ba6": {
      "model_module": "@jupyter-widgets/controls",
      "model_module_version": "1.5.0",
      "model_name": "ProgressStyleModel",
      "state": {
       "description_width": ""
      }
     },
     "2a9a5a1c13514721a9b5858e94a2e3d8": {
      "model_module": "@jupyter-widgets/base",
      "model_module_version": "1.2.0",
      "model_name": "LayoutModel",
      "state": {}
     },
     "2ab07fead8d1496dab6c1d4d8e781947": {
      "model_module": "@jupyter-widgets/controls",
      "model_module_version": "1.5.0",
      "model_name": "DescriptionStyleModel",
      "state": {
       "description_width": ""
      }
     },
     "2b5e8d398ba344ffa289cf867746571d": {
      "model_module": "@jupyter-widgets/base",
      "model_module_version": "1.2.0",
      "model_name": "LayoutModel",
      "state": {}
     },
     "2bc02fe053a745fabf9f60fc7a113f4c": {
      "model_module": "@jupyter-widgets/base",
      "model_module_version": "1.2.0",
      "model_name": "LayoutModel",
      "state": {}
     },
     "2be296a015af465da4b1a2058a9d548c": {
      "model_module": "@jupyter-widgets/base",
      "model_module_version": "1.2.0",
      "model_name": "LayoutModel",
      "state": {}
     },
     "2c0888ba2fa54a92b803cd15d76d8578": {
      "model_module": "@jupyter-widgets/controls",
      "model_module_version": "1.5.0",
      "model_name": "VBoxModel",
      "state": {
       "children": [
        "IPY_MODEL_006c473feedb433b93e419ffa36a0583",
        "IPY_MODEL_3e3e02ddfad9426da35ad90c9c3d1d72",
        "IPY_MODEL_8ace86e1659f48d7b9d8011481e2a5ba",
        "IPY_MODEL_46ffcd302a504d5f8e7ad7aacdb5f117",
        "IPY_MODEL_ff0c529426874603baef780dd3d1a616",
        "IPY_MODEL_7a07b4e39b934f0ab5322e3b677761c8",
        "IPY_MODEL_ef84964c346449ada736fd1910062ac1",
        "IPY_MODEL_7efcb9f7e2f44684bf8bbad1cb6d1562",
        "IPY_MODEL_f58dd38da993481da8d0945dc6e095a0",
        "IPY_MODEL_5b1a727fb1294d55bb8da37bfe5a7fb4",
        "IPY_MODEL_21a58cf8c6f44bdb9219b5ba2729b895",
        "IPY_MODEL_cc37f148d6b84128a0253f61895976cc",
        "IPY_MODEL_e73ecf80adef4bb88a2053cd9240ce4d",
        "IPY_MODEL_318ea8e4a35144659766fae5953b27ff",
        "IPY_MODEL_ff1c96c65cb14f99bd01bbc54603ec22",
        "IPY_MODEL_b4b15924781c48639124cf3fcb01fe9b",
        "IPY_MODEL_609339ecb9f24126a4a01c077e037d3d",
        "IPY_MODEL_a5431a3ab1804a07a6c7a04a889ecd8c",
        "IPY_MODEL_59be37005b7e4efa8dd5afeda247a199",
        "IPY_MODEL_ab92745f6c094bd3a2876045bb2e9aec",
        "IPY_MODEL_ff0eed865840405aa5a9c759c3d8bf42",
        "IPY_MODEL_cc54e1d624bd49d884927f6d72ce22f7",
        "IPY_MODEL_12ef766da84c4523b21294cae7290cb6",
        "IPY_MODEL_abb9a3f60f17422182b37231d9554f20",
        "IPY_MODEL_0fab8e5669c9468ebd1aade53fb540ce",
        "IPY_MODEL_505c6008330841928031d28607d7a96d",
        "IPY_MODEL_05dad2b5d08e47948abb159feadff20b",
        "IPY_MODEL_52fde19fe6ab4ffe978b84582fa84958",
        "IPY_MODEL_e3460686336c462bbdae71af5f523fab",
        "IPY_MODEL_8fef9af94f8c4f0a9c3d2c595700c181",
        "IPY_MODEL_bd033cf59022466aa12284bf5050b7ec",
        "IPY_MODEL_7b3396c492e745b2a0edf4ed862119ec",
        "IPY_MODEL_2e0b66a0ef20462a9a5749cda2f04426",
        "IPY_MODEL_b7ed327e9d3d438081767fe23685fe83",
        "IPY_MODEL_dd25fabeac0c492aa2adad1d1e74c175",
        "IPY_MODEL_00bf68540ef04988a4d22e0390aefbce",
        "IPY_MODEL_682154114360469cb89495ca654a2b0b",
        "IPY_MODEL_edc3b909a8e0460a95d951c357bfc071",
        "IPY_MODEL_ddaaf095788c48b48305c7b40a659583",
        "IPY_MODEL_6064c6f178cd4f1fbb80655e97a488eb",
        "IPY_MODEL_a8f0551299974e4b91af1c7224c452fe",
        "IPY_MODEL_3a32c9c2a50945aca453066d9e018f45",
        "IPY_MODEL_f0c1a12f4e8448ceaba1671a9b8adf17",
        "IPY_MODEL_7329c8daeb414311b2ba283d72eb4382",
        "IPY_MODEL_721e371c133a478893c55fe9c4501199",
        "IPY_MODEL_2dff1357b6854692b86face08b3ed190",
        "IPY_MODEL_d8e28ee1d1b44c57b95ed2e6ff0dbd1c",
        "IPY_MODEL_74ad503e59674c6390cb8f4d750103c8",
        "IPY_MODEL_50aaa540f03b47efa764ddbb67fd24c2",
        "IPY_MODEL_2c986d6acdb243a187f4afc9081b318e",
        "IPY_MODEL_cdc98e39d4d44cebb86dc20182284c5f",
        "IPY_MODEL_3f2b3a784a6d457bb2460e6c59cc2433",
        "IPY_MODEL_5ae244933f58413b822113ed9996a8e7",
        "IPY_MODEL_2fec486b22f04853ad93f776a0da3758",
        "IPY_MODEL_994841f46e9c496d8a40d8c4496807fa",
        "IPY_MODEL_d9041365e6b944a188320285c498ed8f",
        "IPY_MODEL_7ace311f61aa4d7b95f6c00827884b16",
        "IPY_MODEL_7e55c8ced8134e1b94565e2536209bd9",
        "IPY_MODEL_c2a03edc23b94ee394b8c9de864ae3dd",
        "IPY_MODEL_9ff761d0d37d4b6e8f3759d0cf6ca606"
       ],
       "layout": "IPY_MODEL_736561fb8b0a42a99af0d90fbc4bb557"
      }
     },
     "2c986d6acdb243a187f4afc9081b318e": {
      "model_module": "@jupyter-widgets/controls",
      "model_module_version": "1.5.0",
      "model_name": "HBoxModel",
      "state": {
       "children": [
        "IPY_MODEL_cd50e1655b6f45c4833f34d1b120f885",
        "IPY_MODEL_68c0d37be3594b18917efaa8d4f43284"
       ],
       "layout": "IPY_MODEL_71606655cd524ceb823b399ae0006a0d"
      }
     },
     "2ce2a65704314e5c92c7c8ac9f0db763": {
      "model_module": "@jupyter-widgets/controls",
      "model_module_version": "1.5.0",
      "model_name": "IntProgressModel",
      "state": {
       "bar_style": "success",
       "description": "100.00%",
       "layout": "IPY_MODEL_17152ef8aa6c49afa3551aacb66f6c2b",
       "max": 1560,
       "style": "IPY_MODEL_29050e895b1b4ca891f7d09bb11e4ba6",
       "value": 1560
      }
     },
     "2dff1357b6854692b86face08b3ed190": {
      "model_module": "@jupyter-widgets/controls",
      "model_module_version": "1.5.0",
      "model_name": "HBoxModel",
      "state": {
       "children": [
        "IPY_MODEL_6fb7fae3227c41a3947a750bc080baba",
        "IPY_MODEL_cca42043c4064d5bbcd6480cdf7d8a51"
       ],
       "layout": "IPY_MODEL_5f17dd50274746d38d99dcb9ffd65582"
      }
     },
     "2e0b66a0ef20462a9a5749cda2f04426": {
      "model_module": "@jupyter-widgets/controls",
      "model_module_version": "1.5.0",
      "model_name": "HBoxModel",
      "state": {
       "children": [
        "IPY_MODEL_034068774cdf4fcd839ad031bd519a98",
        "IPY_MODEL_43a930ca1be34e6b8634118c7b33e2f5"
       ],
       "layout": "IPY_MODEL_d297d795b11846bab8c6750377c63604"
      }
     },
     "2eccf3cbbcc24456bc2cfb43c9b4f697": {
      "model_module": "@jupyter-widgets/controls",
      "model_module_version": "1.5.0",
      "model_name": "ProgressStyleModel",
      "state": {
       "description_width": ""
      }
     },
     "2f9dc1d7609b44e6ac81572654bee2cf": {
      "model_module": "@jupyter-widgets/base",
      "model_module_version": "1.2.0",
      "model_name": "LayoutModel",
      "state": {}
     },
     "2fbf43479acb49ed890c2d525c578be5": {
      "model_module": "@jupyter-widgets/controls",
      "model_module_version": "1.5.0",
      "model_name": "DescriptionStyleModel",
      "state": {
       "description_width": ""
      }
     },
     "2fec486b22f04853ad93f776a0da3758": {
      "model_module": "@jupyter-widgets/controls",
      "model_module_version": "1.5.0",
      "model_name": "HBoxModel",
      "state": {
       "children": [
        "IPY_MODEL_1f432223a5954773909d43cbb498d6fd",
        "IPY_MODEL_adc26b54b7714359bb028d006257f9d7"
       ],
       "layout": "IPY_MODEL_1869e37f69d548d181d98f297f2515ec"
      }
     },
     "30668052a1c54c878da8639137e3bcc4": {
      "model_module": "@jupyter-widgets/controls",
      "model_module_version": "1.5.0",
      "model_name": "IntProgressModel",
      "state": {
       "bar_style": "success",
       "description": "100.00%",
       "layout": "IPY_MODEL_d85aa9366d0a4b2892382289fde4c438",
       "max": 1560,
       "style": "IPY_MODEL_e6d04eed455e4a928601ce6985eeab8d",
       "value": 1560
      }
     },
     "30ca3f3601964771804dbc39caff45a4": {
      "model_module": "@jupyter-widgets/controls",
      "model_module_version": "1.5.0",
      "model_name": "DescriptionStyleModel",
      "state": {
       "description_width": ""
      }
     },
     "31876ad316274990a363aa35af00dc05": {
      "model_module": "@jupyter-widgets/controls",
      "model_module_version": "1.5.0",
      "model_name": "LabelModel",
      "state": {
       "layout": "IPY_MODEL_624700e0d2fa439e8244f3b3f2737eb3",
       "style": "IPY_MODEL_c7980407309a4b909e43076b8247b7d0",
       "value": "1560 / 1560"
      }
     },
     "318ea8e4a35144659766fae5953b27ff": {
      "model_module": "@jupyter-widgets/controls",
      "model_module_version": "1.5.0",
      "model_name": "HBoxModel",
      "state": {
       "children": [
        "IPY_MODEL_bdb48db5d0804f14ad1c2e06185728b1",
        "IPY_MODEL_fa3496398ed0400fb37929e943eedd6f"
       ],
       "layout": "IPY_MODEL_2bc02fe053a745fabf9f60fc7a113f4c"
      }
     },
     "31ecc8504e0446ad8e0d1ea0f42b4a0e": {
      "model_module": "@jupyter-widgets/controls",
      "model_module_version": "1.5.0",
      "model_name": "IntProgressModel",
      "state": {
       "bar_style": "success",
       "description": "100.00%",
       "layout": "IPY_MODEL_b5619948e00e49bc84aabb466e83db5f",
       "max": 1560,
       "style": "IPY_MODEL_60b0392fc3564300813185d80acf3432",
       "value": 1560
      }
     },
     "3272f4d374f445318f952b5064db14ac": {
      "model_module": "@jupyter-widgets/base",
      "model_module_version": "1.2.0",
      "model_name": "LayoutModel",
      "state": {}
     },
     "32dbbff91c514232b816bdf35dd44890": {
      "model_module": "@jupyter-widgets/base",
      "model_module_version": "1.2.0",
      "model_name": "LayoutModel",
      "state": {}
     },
     "33203a8b6e3a4bffb53bc5a538442c39": {
      "model_module": "@jupyter-widgets/controls",
      "model_module_version": "1.5.0",
      "model_name": "DescriptionStyleModel",
      "state": {
       "description_width": ""
      }
     },
     "33d3563971394acc8f86f727c017d999": {
      "model_module": "@jupyter-widgets/controls",
      "model_module_version": "1.5.0",
      "model_name": "ProgressStyleModel",
      "state": {
       "description_width": ""
      }
     },
     "3510a5de1bda4f36b73510c3ad39f505": {
      "model_module": "@jupyter-widgets/base",
      "model_module_version": "1.2.0",
      "model_name": "LayoutModel",
      "state": {}
     },
     "35a1bbb271e74b299f1d53fc75cdd9bd": {
      "model_module": "@jupyter-widgets/base",
      "model_module_version": "1.2.0",
      "model_name": "LayoutModel",
      "state": {}
     },
     "35f4a93b510f4cebbd8bd18336739cb0": {
      "model_module": "@jupyter-widgets/base",
      "model_module_version": "1.2.0",
      "model_name": "LayoutModel",
      "state": {}
     },
     "362aa04f6c874ec8b6191accf1f48722": {
      "model_module": "@jupyter-widgets/controls",
      "model_module_version": "1.5.0",
      "model_name": "ProgressStyleModel",
      "state": {
       "description_width": ""
      }
     },
     "3647adaa5bc44386a433124aacabf498": {
      "model_module": "@jupyter-widgets/controls",
      "model_module_version": "1.5.0",
      "model_name": "IntProgressModel",
      "state": {
       "bar_style": "success",
       "description": "100.00%",
       "layout": "IPY_MODEL_5684f74f068f481c9d0fde6a7cec3436",
       "max": 1560,
       "style": "IPY_MODEL_1b62a49db5174190ae0ab9c4ecc8fdfc",
       "value": 1560
      }
     },
     "37941ea3d44749019d0dbe8f3bd32e24": {
      "model_module": "@jupyter-widgets/base",
      "model_module_version": "1.2.0",
      "model_name": "LayoutModel",
      "state": {}
     },
     "3812028ce8984f6cb93c49a37ecc587a": {
      "model_module": "@jupyter-widgets/controls",
      "model_module_version": "1.5.0",
      "model_name": "IntProgressModel",
      "state": {
       "bar_style": "success",
       "description": "100.00%",
       "layout": "IPY_MODEL_76e2db49e0c14ebd93b34b8d37909278",
       "max": 1559,
       "style": "IPY_MODEL_3e082a11e117457baf44c0484feea490",
       "value": 1559
      }
     },
     "3830f11e71da4adab7e73918ee0753f3": {
      "model_module": "@jupyter-widgets/controls",
      "model_module_version": "1.5.0",
      "model_name": "LabelModel",
      "state": {
       "layout": "IPY_MODEL_88329dab14924d1eaeaee35e2a65f26a",
       "style": "IPY_MODEL_2ab07fead8d1496dab6c1d4d8e781947",
       "value": "1560 / 1560"
      }
     },
     "3a07b593563a45819cf7d7f7fc4b09fb": {
      "model_module": "@jupyter-widgets/controls",
      "model_module_version": "1.5.0",
      "model_name": "LabelModel",
      "state": {
       "layout": "IPY_MODEL_75233385d25b43728b3a39a62b129bf5",
       "style": "IPY_MODEL_db5112aa566c4239b371c15a9bf2c42f",
       "value": "1559 / 1559"
      }
     },
     "3a32c9c2a50945aca453066d9e018f45": {
      "model_module": "@jupyter-widgets/controls",
      "model_module_version": "1.5.0",
      "model_name": "HBoxModel",
      "state": {
       "children": [
        "IPY_MODEL_e15aad09a0dc40eea53b41b4c8c84086",
        "IPY_MODEL_900d114bce814ed1a5d52ecfc652140f"
       ],
       "layout": "IPY_MODEL_926d21fa64ff4f948e64a60de02448d7"
      }
     },
     "3a94450a97b2401dbd5ac6fda4ba184a": {
      "model_module": "@jupyter-widgets/base",
      "model_module_version": "1.2.0",
      "model_name": "LayoutModel",
      "state": {}
     },
     "3adf9c34e8e14689b13e554f9823c7b7": {
      "model_module": "@jupyter-widgets/controls",
      "model_module_version": "1.5.0",
      "model_name": "LabelModel",
      "state": {
       "layout": "IPY_MODEL_32dbbff91c514232b816bdf35dd44890",
       "style": "IPY_MODEL_bb2bad8666604a1ba5b895799697ac6a",
       "value": "1559 / 1559"
      }
     },
     "3b937aedf8f348dcb1f0dd4dce00496b": {
      "model_module": "@jupyter-widgets/base",
      "model_module_version": "1.2.0",
      "model_name": "LayoutModel",
      "state": {}
     },
     "3bf91da0feef40bea11df5301c64291e": {
      "model_module": "@jupyter-widgets/base",
      "model_module_version": "1.2.0",
      "model_name": "LayoutModel",
      "state": {}
     },
     "3dab68f2af5c48f2beae0c52b221f055": {
      "model_module": "@jupyter-widgets/controls",
      "model_module_version": "1.5.0",
      "model_name": "LabelModel",
      "state": {
       "layout": "IPY_MODEL_da0d0bbdda8e4514aa9759eade92c7bd",
       "style": "IPY_MODEL_427f4e2a3ff541f2a345c6cc9095ae4f",
       "value": "1560 / 1560"
      }
     },
     "3dcda559a63242a8956a1f09d0c1a601": {
      "model_module": "@jupyter-widgets/controls",
      "model_module_version": "1.5.0",
      "model_name": "ProgressStyleModel",
      "state": {
       "description_width": ""
      }
     },
     "3e082a11e117457baf44c0484feea490": {
      "model_module": "@jupyter-widgets/controls",
      "model_module_version": "1.5.0",
      "model_name": "ProgressStyleModel",
      "state": {
       "description_width": ""
      }
     },
     "3e3e02ddfad9426da35ad90c9c3d1d72": {
      "model_module": "@jupyter-widgets/controls",
      "model_module_version": "1.5.0",
      "model_name": "HBoxModel",
      "state": {
       "children": [
        "IPY_MODEL_156bc4be745644668163ae9c7ff8ccf4",
        "IPY_MODEL_e439eca7735a49808c67e5bd99ba0ddf"
       ],
       "layout": "IPY_MODEL_6db4027aca7f4c92ade391b5adfc65ce"
      }
     },
     "3f1e19c304ad492f8b36c3ec05ff19d1": {
      "model_module": "@jupyter-widgets/controls",
      "model_module_version": "1.5.0",
      "model_name": "ProgressStyleModel",
      "state": {
       "description_width": ""
      }
     },
     "3f2b3a784a6d457bb2460e6c59cc2433": {
      "model_module": "@jupyter-widgets/controls",
      "model_module_version": "1.5.0",
      "model_name": "HBoxModel",
      "state": {
       "children": [
        "IPY_MODEL_ebba220591284e9dae0b9e1cad9f928e",
        "IPY_MODEL_d678e39e98df447e9e573e0f07694ec7"
       ],
       "layout": "IPY_MODEL_ce87174a83e04257aa40fb9c7ee6a91d"
      }
     },
     "3ff9e063d73146e6a2983bdbc517d0a1": {
      "model_module": "@jupyter-widgets/controls",
      "model_module_version": "1.5.0",
      "model_name": "IntProgressModel",
      "state": {
       "bar_style": "success",
       "description": "100.00%",
       "layout": "IPY_MODEL_fb5ff0784bf8496cb03e46eaad020c44",
       "max": 1560,
       "style": "IPY_MODEL_f1ff2af65fd84d028c7ab19307117716",
       "value": 1560
      }
     },
     "417b477a5bdd481b854729405241314f": {
      "model_module": "@jupyter-widgets/base",
      "model_module_version": "1.2.0",
      "model_name": "LayoutModel",
      "state": {}
     },
     "424087857e4b4f97aecfcf43ac8fbb77": {
      "model_module": "@jupyter-widgets/controls",
      "model_module_version": "1.5.0",
      "model_name": "ProgressStyleModel",
      "state": {
       "description_width": ""
      }
     },
     "4269a9d0e12f4f7cb29ce8c2877b7dac": {
      "model_module": "@jupyter-widgets/base",
      "model_module_version": "1.2.0",
      "model_name": "LayoutModel",
      "state": {}
     },
     "427f4e2a3ff541f2a345c6cc9095ae4f": {
      "model_module": "@jupyter-widgets/controls",
      "model_module_version": "1.5.0",
      "model_name": "DescriptionStyleModel",
      "state": {
       "description_width": ""
      }
     },
     "42d4ba71386847818b837e85eabeb18f": {
      "model_module": "@jupyter-widgets/controls",
      "model_module_version": "1.5.0",
      "model_name": "ProgressStyleModel",
      "state": {
       "description_width": ""
      }
     },
     "43022e3919f841a288dd00a510e6e03d": {
      "model_module": "@jupyter-widgets/base",
      "model_module_version": "1.2.0",
      "model_name": "LayoutModel",
      "state": {}
     },
     "43a930ca1be34e6b8634118c7b33e2f5": {
      "model_module": "@jupyter-widgets/controls",
      "model_module_version": "1.5.0",
      "model_name": "LabelModel",
      "state": {
       "layout": "IPY_MODEL_63b87807c6ad4cbf96010eed65464d2b",
       "style": "IPY_MODEL_fb517e51202f4eb38e5b69a2fcd851c3",
       "value": "1560 / 1560"
      }
     },
     "43bef043f41c49deacfcc60933a8deca": {
      "model_module": "@jupyter-widgets/controls",
      "model_module_version": "1.5.0",
      "model_name": "ProgressStyleModel",
      "state": {
       "description_width": ""
      }
     },
     "43cda5c82594416f9198b34720b8295b": {
      "model_module": "@jupyter-widgets/base",
      "model_module_version": "1.2.0",
      "model_name": "LayoutModel",
      "state": {}
     },
     "43d1450f17b14e3bb8dd08ad67375db2": {
      "model_module": "@jupyter-widgets/controls",
      "model_module_version": "1.5.0",
      "model_name": "ProgressStyleModel",
      "state": {
       "description_width": ""
      }
     },
     "44a5379e603b4e018065de2cc7efc6bd": {
      "model_module": "@jupyter-widgets/controls",
      "model_module_version": "1.5.0",
      "model_name": "ProgressStyleModel",
      "state": {
       "description_width": ""
      }
     },
     "44b168d157ac4c01bc63fd76ab6a1776": {
      "model_module": "@jupyter-widgets/base",
      "model_module_version": "1.2.0",
      "model_name": "LayoutModel",
      "state": {}
     },
     "457fbbaa6cc64c2281419f471734b378": {
      "model_module": "@jupyter-widgets/controls",
      "model_module_version": "1.5.0",
      "model_name": "IntProgressModel",
      "state": {
       "bar_style": "success",
       "description": "100.00%",
       "layout": "IPY_MODEL_86365a9f7fb442118de5617fd72f52c9",
       "max": 1559,
       "style": "IPY_MODEL_362aa04f6c874ec8b6191accf1f48722",
       "value": 1559
      }
     },
     "45f393c593ef44f29768e271ef16c147": {
      "model_module": "@jupyter-widgets/base",
      "model_module_version": "1.2.0",
      "model_name": "LayoutModel",
      "state": {}
     },
     "4623eb60e151449db3d35b80c5641dcc": {
      "model_module": "@jupyter-widgets/base",
      "model_module_version": "1.2.0",
      "model_name": "LayoutModel",
      "state": {}
     },
     "46e84ffade914a628c7fd5bd037801ed": {
      "model_module": "@jupyter-widgets/controls",
      "model_module_version": "1.5.0",
      "model_name": "DescriptionStyleModel",
      "state": {
       "description_width": ""
      }
     },
     "46ffcd302a504d5f8e7ad7aacdb5f117": {
      "model_module": "@jupyter-widgets/controls",
      "model_module_version": "1.5.0",
      "model_name": "HBoxModel",
      "state": {
       "children": [
        "IPY_MODEL_fbb275b6f7484eeb887e5bd7c832bc73",
        "IPY_MODEL_9c7abfc6751b4ea6b5d26d4622ada42d"
       ],
       "layout": "IPY_MODEL_6076485df9d748a8a1ff15c5576a7798"
      }
     },
     "47293faee22a47099e224ce5c9a1597c": {
      "model_module": "@jupyter-widgets/base",
      "model_module_version": "1.2.0",
      "model_name": "LayoutModel",
      "state": {}
     },
     "47901281c64a4dd4aa690ae41442631c": {
      "model_module": "@jupyter-widgets/controls",
      "model_module_version": "1.5.0",
      "model_name": "LabelModel",
      "state": {
       "layout": "IPY_MODEL_1f40c5d26af948d1aeb5ceb8255f986f",
       "style": "IPY_MODEL_85a7aecb7ac84acdb8b0180cae0693a2",
       "value": "1560 / 1560"
      }
     },
     "47ebd11a80e3437fa70b95468ee8cc7d": {
      "model_module": "@jupyter-widgets/controls",
      "model_module_version": "1.5.0",
      "model_name": "IntProgressModel",
      "state": {
       "bar_style": "success",
       "description": "100.00%",
       "layout": "IPY_MODEL_122f56b531cf41e79142976a9402416e",
       "max": 1559,
       "style": "IPY_MODEL_424087857e4b4f97aecfcf43ac8fbb77",
       "value": 1559
      }
     },
     "47fbc8c453c44a7295eb8d99e91385c4": {
      "model_module": "@jupyter-widgets/base",
      "model_module_version": "1.2.0",
      "model_name": "LayoutModel",
      "state": {}
     },
     "489e1221de7740d9bffcda9221dc69f8": {
      "model_module": "@jupyter-widgets/base",
      "model_module_version": "1.2.0",
      "model_name": "LayoutModel",
      "state": {}
     },
     "491d32a632124bb9a5f9f6a9a7cb1361": {
      "model_module": "@jupyter-widgets/base",
      "model_module_version": "1.2.0",
      "model_name": "LayoutModel",
      "state": {}
     },
     "4bf29c9d95944607bebc9fea4bcd3605": {
      "model_module": "@jupyter-widgets/controls",
      "model_module_version": "1.5.0",
      "model_name": "IntProgressModel",
      "state": {
       "bar_style": "success",
       "description": "100.00%",
       "layout": "IPY_MODEL_43cda5c82594416f9198b34720b8295b",
       "max": 1560,
       "style": "IPY_MODEL_8743eb8e98334e8ca3e20cfac07aebdb",
       "value": 1560
      }
     },
     "4c3ee713d8804e7e8ff6949b76de42ba": {
      "model_module": "@jupyter-widgets/base",
      "model_module_version": "1.2.0",
      "model_name": "LayoutModel",
      "state": {}
     },
     "4c3f23d8398a49bba6429c8a2be8a679": {
      "model_module": "@jupyter-widgets/controls",
      "model_module_version": "1.5.0",
      "model_name": "DescriptionStyleModel",
      "state": {
       "description_width": ""
      }
     },
     "4cc86d19d59b4bbe88362e5cddb3503e": {
      "model_module": "@jupyter-widgets/base",
      "model_module_version": "1.2.0",
      "model_name": "LayoutModel",
      "state": {}
     },
     "4d307677818641d2a2e5b01da2062b32": {
      "model_module": "@jupyter-widgets/controls",
      "model_module_version": "1.5.0",
      "model_name": "DescriptionStyleModel",
      "state": {
       "description_width": ""
      }
     },
     "4dc63b6533834cf184fb4243770830e2": {
      "model_module": "@jupyter-widgets/controls",
      "model_module_version": "1.5.0",
      "model_name": "ProgressStyleModel",
      "state": {
       "description_width": ""
      }
     },
     "4dfd6f797d5043daa7fc4c39cae1e9a1": {
      "model_module": "@jupyter-widgets/controls",
      "model_module_version": "1.5.0",
      "model_name": "ProgressStyleModel",
      "state": {
       "description_width": ""
      }
     },
     "4f355e7a1ff4467a81d87f4ce1e602d4": {
      "model_module": "@jupyter-widgets/controls",
      "model_module_version": "1.5.0",
      "model_name": "DescriptionStyleModel",
      "state": {
       "description_width": ""
      }
     },
     "4f4f3c7646fe45659cd7fa7bf1573ad2": {
      "model_module": "@jupyter-widgets/base",
      "model_module_version": "1.2.0",
      "model_name": "LayoutModel",
      "state": {}
     },
     "500ad77dcd41446281978e1becb42db7": {
      "model_module": "@jupyter-widgets/base",
      "model_module_version": "1.2.0",
      "model_name": "LayoutModel",
      "state": {}
     },
     "503c19ddbc1b4dd79a2aec4cd897c69f": {
      "model_module": "@jupyter-widgets/controls",
      "model_module_version": "1.5.0",
      "model_name": "LabelModel",
      "state": {
       "layout": "IPY_MODEL_8f99990d725543e791fe9d0555d44437",
       "style": "IPY_MODEL_5d5d542cd86d4b4391d951a58110879b",
       "value": "1559 / 1559"
      }
     },
     "505c6008330841928031d28607d7a96d": {
      "model_module": "@jupyter-widgets/controls",
      "model_module_version": "1.5.0",
      "model_name": "HBoxModel",
      "state": {
       "children": [
        "IPY_MODEL_5a757511c1584cdeac218c0fb1bd5a56",
        "IPY_MODEL_6600e5059d5346ee8ca4ebab21a4a1e0"
       ],
       "layout": "IPY_MODEL_dbed76de6a4e4d3b8111eae662e4d19b"
      }
     },
     "50aaa540f03b47efa764ddbb67fd24c2": {
      "model_module": "@jupyter-widgets/controls",
      "model_module_version": "1.5.0",
      "model_name": "HBoxModel",
      "state": {
       "children": [
        "IPY_MODEL_c09e707e5cd34101bd97946611574d0e",
        "IPY_MODEL_bc4dee90d6644931875444b4597e9af4"
       ],
       "layout": "IPY_MODEL_c9d00dcc53d0451ab159895801717b32"
      }
     },
     "517462d334524d4d82a0a3f89c59ca63": {
      "model_module": "@jupyter-widgets/base",
      "model_module_version": "1.2.0",
      "model_name": "LayoutModel",
      "state": {}
     },
     "51bd254d768443ff8ba01f975baf4943": {
      "model_module": "@jupyter-widgets/base",
      "model_module_version": "1.2.0",
      "model_name": "LayoutModel",
      "state": {}
     },
     "51d4b8501055405589743e4f3f815aee": {
      "model_module": "@jupyter-widgets/controls",
      "model_module_version": "1.5.0",
      "model_name": "IntProgressModel",
      "state": {
       "bar_style": "success",
       "description": "100.00%",
       "layout": "IPY_MODEL_4c3ee713d8804e7e8ff6949b76de42ba",
       "max": 1560,
       "style": "IPY_MODEL_84859b6c3639453ab9ac6b8d7dcb2fb8",
       "value": 1560
      }
     },
     "51ec1f7dac774ebab4bae99643d62b4d": {
      "model_module": "@jupyter-widgets/controls",
      "model_module_version": "1.5.0",
      "model_name": "DescriptionStyleModel",
      "state": {
       "description_width": ""
      }
     },
     "521dbdc9927e45aa99ebc95ae14e61ca": {
      "model_module": "@jupyter-widgets/controls",
      "model_module_version": "1.5.0",
      "model_name": "ProgressStyleModel",
      "state": {
       "description_width": ""
      }
     },
     "52e16b687583449693c40630441ed461": {
      "model_module": "@jupyter-widgets/controls",
      "model_module_version": "1.5.0",
      "model_name": "DescriptionStyleModel",
      "state": {
       "description_width": ""
      }
     },
     "52fde19fe6ab4ffe978b84582fa84958": {
      "model_module": "@jupyter-widgets/controls",
      "model_module_version": "1.5.0",
      "model_name": "HBoxModel",
      "state": {
       "children": [
        "IPY_MODEL_1df6e7d5caf3499a8c31943145a46e86",
        "IPY_MODEL_d53c1af15b504f5c8725084baaedde09"
       ],
       "layout": "IPY_MODEL_f1461326292e4e7eb6dab31aac062cdd"
      }
     },
     "53268d6e898342c9b9c9fe072711ba18": {
      "model_module": "@jupyter-widgets/controls",
      "model_module_version": "1.5.0",
      "model_name": "DescriptionStyleModel",
      "state": {
       "description_width": ""
      }
     },
     "53d9efbe08844e389d8e7db9d58ee0d6": {
      "model_module": "@jupyter-widgets/controls",
      "model_module_version": "1.5.0",
      "model_name": "LabelModel",
      "state": {
       "layout": "IPY_MODEL_e1dccd861a504ae9b41e07140d7b6313",
       "style": "IPY_MODEL_94d7ce57f1fe4a3897ef4fb902c8338d",
       "value": "1560 / 1560"
      }
     },
     "5684f74f068f481c9d0fde6a7cec3436": {
      "model_module": "@jupyter-widgets/base",
      "model_module_version": "1.2.0",
      "model_name": "LayoutModel",
      "state": {}
     },
     "56ae7f4baf2d4931a358bf504837c79d": {
      "model_module": "@jupyter-widgets/base",
      "model_module_version": "1.2.0",
      "model_name": "LayoutModel",
      "state": {}
     },
     "56b341acba0049189f678d2764f04dac": {
      "model_module": "@jupyter-widgets/controls",
      "model_module_version": "1.5.0",
      "model_name": "DescriptionStyleModel",
      "state": {
       "description_width": ""
      }
     },
     "56bb3f72060d434596c9c3a4b0d4ee91": {
      "model_module": "@jupyter-widgets/controls",
      "model_module_version": "1.5.0",
      "model_name": "ProgressStyleModel",
      "state": {
       "description_width": ""
      }
     },
     "56eca85f1f714bc1ba420fb1efb5378d": {
      "model_module": "@jupyter-widgets/base",
      "model_module_version": "1.2.0",
      "model_name": "LayoutModel",
      "state": {}
     },
     "57733275e1d54b199f7b6e7f3bec5290": {
      "model_module": "@jupyter-widgets/base",
      "model_module_version": "1.2.0",
      "model_name": "LayoutModel",
      "state": {}
     },
     "59be37005b7e4efa8dd5afeda247a199": {
      "model_module": "@jupyter-widgets/controls",
      "model_module_version": "1.5.0",
      "model_name": "HBoxModel",
      "state": {
       "children": [
        "IPY_MODEL_9aec34c2f925488a93029c3114152f7f",
        "IPY_MODEL_e7fbfb8be6054ed9b01c281ba48bdb89"
       ],
       "layout": "IPY_MODEL_c431cb117f3b4af3b1ced6f3f5a4bf26"
      }
     },
     "5a757511c1584cdeac218c0fb1bd5a56": {
      "model_module": "@jupyter-widgets/controls",
      "model_module_version": "1.5.0",
      "model_name": "IntProgressModel",
      "state": {
       "bar_style": "success",
       "description": "100.00%",
       "layout": "IPY_MODEL_fcae43309a8141e08d7d0593878175ea",
       "max": 1560,
       "style": "IPY_MODEL_43d1450f17b14e3bb8dd08ad67375db2",
       "value": 1560
      }
     },
     "5aa9803157d3451c91c47143bd760c4a": {
      "model_module": "@jupyter-widgets/controls",
      "model_module_version": "1.5.0",
      "model_name": "IntProgressModel",
      "state": {
       "bar_style": "success",
       "description": "100.00%",
       "layout": "IPY_MODEL_df1af8b3278043dd804c9e13c6a06869",
       "max": 1560,
       "style": "IPY_MODEL_03ee14f7b4e44357924ef3e2be1b6a5e",
       "value": 1560
      }
     },
     "5ae244933f58413b822113ed9996a8e7": {
      "model_module": "@jupyter-widgets/controls",
      "model_module_version": "1.5.0",
      "model_name": "HBoxModel",
      "state": {
       "children": [
        "IPY_MODEL_831cbec303d84f97be304de42462950f",
        "IPY_MODEL_503c19ddbc1b4dd79a2aec4cd897c69f"
       ],
       "layout": "IPY_MODEL_c0c970f28d924dc5b90dd797d719c62c"
      }
     },
     "5afc0701b94145e7a3cf1b72605f8c18": {
      "model_module": "@jupyter-widgets/base",
      "model_module_version": "1.2.0",
      "model_name": "LayoutModel",
      "state": {}
     },
     "5b1a727fb1294d55bb8da37bfe5a7fb4": {
      "model_module": "@jupyter-widgets/controls",
      "model_module_version": "1.5.0",
      "model_name": "HBoxModel",
      "state": {
       "children": [
        "IPY_MODEL_31ecc8504e0446ad8e0d1ea0f42b4a0e",
        "IPY_MODEL_9f8ee8d870034fcf881dc76314ada3e4"
       ],
       "layout": "IPY_MODEL_489e1221de7740d9bffcda9221dc69f8"
      }
     },
     "5b8713a43be04cbfa084518cc075a97f": {
      "model_module": "@jupyter-widgets/controls",
      "model_module_version": "1.5.0",
      "model_name": "ProgressStyleModel",
      "state": {
       "description_width": ""
      }
     },
     "5b948924e5934194b4c1bd8274553479": {
      "model_module": "@jupyter-widgets/base",
      "model_module_version": "1.2.0",
      "model_name": "LayoutModel",
      "state": {}
     },
     "5c434bf68582405dbdb4b9ba29e34d91": {
      "model_module": "@jupyter-widgets/controls",
      "model_module_version": "1.5.0",
      "model_name": "ProgressStyleModel",
      "state": {
       "description_width": ""
      }
     },
     "5cd53cce85554d988bb422a97e58cb43": {
      "model_module": "@jupyter-widgets/base",
      "model_module_version": "1.2.0",
      "model_name": "LayoutModel",
      "state": {}
     },
     "5d16f56edcf1412a8e3263f332c6b555": {
      "model_module": "@jupyter-widgets/controls",
      "model_module_version": "1.5.0",
      "model_name": "IntProgressModel",
      "state": {
       "bar_style": "success",
       "description": "100.00%",
       "layout": "IPY_MODEL_a5969ee65833435ea85b8c580eb657bd",
       "max": 1560,
       "style": "IPY_MODEL_f1ce269736154b7499a0a89fb5adf719",
       "value": 1560
      }
     },
     "5d37b879c10540ef94076a139dfd04c1": {
      "model_module": "@jupyter-widgets/base",
      "model_module_version": "1.2.0",
      "model_name": "LayoutModel",
      "state": {}
     },
     "5d5d542cd86d4b4391d951a58110879b": {
      "model_module": "@jupyter-widgets/controls",
      "model_module_version": "1.5.0",
      "model_name": "DescriptionStyleModel",
      "state": {
       "description_width": ""
      }
     },
     "5f17dd50274746d38d99dcb9ffd65582": {
      "model_module": "@jupyter-widgets/base",
      "model_module_version": "1.2.0",
      "model_name": "LayoutModel",
      "state": {}
     },
     "6064c6f178cd4f1fbb80655e97a488eb": {
      "model_module": "@jupyter-widgets/controls",
      "model_module_version": "1.5.0",
      "model_name": "HBoxModel",
      "state": {
       "children": [
        "IPY_MODEL_baa4d2cf7b0c4aec87919b9d70fd981a",
        "IPY_MODEL_3adf9c34e8e14689b13e554f9823c7b7"
       ],
       "layout": "IPY_MODEL_3b937aedf8f348dcb1f0dd4dce00496b"
      }
     },
     "6076485df9d748a8a1ff15c5576a7798": {
      "model_module": "@jupyter-widgets/base",
      "model_module_version": "1.2.0",
      "model_name": "LayoutModel",
      "state": {}
     },
     "609339ecb9f24126a4a01c077e037d3d": {
      "model_module": "@jupyter-widgets/controls",
      "model_module_version": "1.5.0",
      "model_name": "HBoxModel",
      "state": {
       "children": [
        "IPY_MODEL_1c030f5b1bd44776a4035cdbba372a61",
        "IPY_MODEL_de53cee2c96b47b99c8f4e71966988a4"
       ],
       "layout": "IPY_MODEL_7b4897996a0d4d019141ea40eea26544"
      }
     },
     "609f957b56404fb69665e7b36c106257": {
      "model_module": "@jupyter-widgets/controls",
      "model_module_version": "1.5.0",
      "model_name": "ProgressStyleModel",
      "state": {
       "description_width": ""
      }
     },
     "60b0392fc3564300813185d80acf3432": {
      "model_module": "@jupyter-widgets/controls",
      "model_module_version": "1.5.0",
      "model_name": "ProgressStyleModel",
      "state": {
       "description_width": ""
      }
     },
     "60c2b389c15a4bab8d67ca9381cec3dc": {
      "model_module": "@jupyter-widgets/controls",
      "model_module_version": "1.5.0",
      "model_name": "ProgressStyleModel",
      "state": {
       "description_width": ""
      }
     },
     "60d40bd206f44c298f6f8445c758536f": {
      "model_module": "@jupyter-widgets/base",
      "model_module_version": "1.2.0",
      "model_name": "LayoutModel",
      "state": {}
     },
     "61b72985eae04d4caf567ca6af03f01c": {
      "model_module": "@jupyter-widgets/controls",
      "model_module_version": "1.5.0",
      "model_name": "DescriptionStyleModel",
      "state": {
       "description_width": ""
      }
     },
     "623ec98660ca40c8abe1ed867a2486f1": {
      "model_module": "@jupyter-widgets/base",
      "model_module_version": "1.2.0",
      "model_name": "LayoutModel",
      "state": {}
     },
     "624700e0d2fa439e8244f3b3f2737eb3": {
      "model_module": "@jupyter-widgets/base",
      "model_module_version": "1.2.0",
      "model_name": "LayoutModel",
      "state": {}
     },
     "627f9247d6884aa3bddfdc2312442c93": {
      "model_module": "@jupyter-widgets/base",
      "model_module_version": "1.2.0",
      "model_name": "LayoutModel",
      "state": {}
     },
     "6356c257e71b462dbb8d55cf3d64f5a1": {
      "model_module": "@jupyter-widgets/controls",
      "model_module_version": "1.5.0",
      "model_name": "ProgressStyleModel",
      "state": {
       "description_width": ""
      }
     },
     "63ade4cde0a44b6385655af3371ac7e0": {
      "model_module": "@jupyter-widgets/base",
      "model_module_version": "1.2.0",
      "model_name": "LayoutModel",
      "state": {}
     },
     "63b87807c6ad4cbf96010eed65464d2b": {
      "model_module": "@jupyter-widgets/base",
      "model_module_version": "1.2.0",
      "model_name": "LayoutModel",
      "state": {}
     },
     "64d39738bfbf4ee6addce9bf4ec48728": {
      "model_module": "@jupyter-widgets/controls",
      "model_module_version": "1.5.0",
      "model_name": "DescriptionStyleModel",
      "state": {
       "description_width": ""
      }
     },
     "6600e5059d5346ee8ca4ebab21a4a1e0": {
      "model_module": "@jupyter-widgets/controls",
      "model_module_version": "1.5.0",
      "model_name": "LabelModel",
      "state": {
       "layout": "IPY_MODEL_83aa67e9cae84a54873c0d6ee3cfc54b",
       "style": "IPY_MODEL_30ca3f3601964771804dbc39caff45a4",
       "value": "1560 / 1560"
      }
     },
     "682154114360469cb89495ca654a2b0b": {
      "model_module": "@jupyter-widgets/controls",
      "model_module_version": "1.5.0",
      "model_name": "HBoxModel",
      "state": {
       "children": [
        "IPY_MODEL_8992f219f45241c4971f0d63d10034c0",
        "IPY_MODEL_8544bcfaec95449f8a8dcd44a298bb31"
       ],
       "layout": "IPY_MODEL_1e5716650792470cbe535ab9d9f8e32b"
      }
     },
     "68c0d37be3594b18917efaa8d4f43284": {
      "model_module": "@jupyter-widgets/controls",
      "model_module_version": "1.5.0",
      "model_name": "LabelModel",
      "state": {
       "layout": "IPY_MODEL_6a97ce0a4be54d3b8b6231ba461f90ea",
       "style": "IPY_MODEL_9bf1befbeed54ed1ad6a732e8905a17b",
       "value": "1559 / 1559"
      }
     },
     "68e47b7b98384e7a85632d9079640475": {
      "model_module": "@jupyter-widgets/controls",
      "model_module_version": "1.5.0",
      "model_name": "ProgressStyleModel",
      "state": {
       "description_width": ""
      }
     },
     "6929f0b7f69647fcb2e994f1de155807": {
      "model_module": "@jupyter-widgets/controls",
      "model_module_version": "1.5.0",
      "model_name": "LabelModel",
      "state": {
       "layout": "IPY_MODEL_76af338dc90f4ce8b61636cc97f5caf6",
       "style": "IPY_MODEL_72b8fe18efaa4c498f2636b0a8f15727",
       "value": "1560 / 1560"
      }
     },
     "6997d76590a64361b5426eb530a2f968": {
      "model_module": "@jupyter-widgets/base",
      "model_module_version": "1.2.0",
      "model_name": "LayoutModel",
      "state": {}
     },
     "6a97ce0a4be54d3b8b6231ba461f90ea": {
      "model_module": "@jupyter-widgets/base",
      "model_module_version": "1.2.0",
      "model_name": "LayoutModel",
      "state": {}
     },
     "6ab14ed1fe67412b9f8e7386349a9258": {
      "model_module": "@jupyter-widgets/controls",
      "model_module_version": "1.5.0",
      "model_name": "IntProgressModel",
      "state": {
       "bar_style": "success",
       "description": "100.00%",
       "layout": "IPY_MODEL_773bb5d4b61141c4ae4cbf8a4422bb64",
       "max": 1560,
       "style": "IPY_MODEL_521dbdc9927e45aa99ebc95ae14e61ca",
       "value": 1560
      }
     },
     "6b6b643675a04bfcad531079de89ade4": {
      "model_module": "@jupyter-widgets/controls",
      "model_module_version": "1.5.0",
      "model_name": "LabelModel",
      "state": {
       "layout": "IPY_MODEL_882b5476b68043acbca049acd045a6d6",
       "style": "IPY_MODEL_72fbd8d95d174caf92cf1234b4c7af41",
       "value": "1559 / 1559"
      }
     },
     "6d7dcc25f6ee4c48b04e32b272c36eb0": {
      "model_module": "@jupyter-widgets/base",
      "model_module_version": "1.2.0",
      "model_name": "LayoutModel",
      "state": {}
     },
     "6d9a88d9f2414351a7729321a5136230": {
      "model_module": "@jupyter-widgets/controls",
      "model_module_version": "1.5.0",
      "model_name": "DescriptionStyleModel",
      "state": {
       "description_width": ""
      }
     },
     "6db4027aca7f4c92ade391b5adfc65ce": {
      "model_module": "@jupyter-widgets/base",
      "model_module_version": "1.2.0",
      "model_name": "LayoutModel",
      "state": {}
     },
     "6dbe9f985c3f475d9cf014fa7be95432": {
      "model_module": "@jupyter-widgets/controls",
      "model_module_version": "1.5.0",
      "model_name": "IntProgressModel",
      "state": {
       "bar_style": "success",
       "description": "100.00%",
       "layout": "IPY_MODEL_e523ed6541ae4858985ecbd434441d17",
       "max": 1560,
       "style": "IPY_MODEL_a61b86c3e9d840c58673bac83c96a593",
       "value": 1560
      }
     },
     "6e02100dfee44d5194febbd0b08b6d20": {
      "model_module": "@jupyter-widgets/controls",
      "model_module_version": "1.5.0",
      "model_name": "DescriptionStyleModel",
      "state": {
       "description_width": ""
      }
     },
     "6e3dd062304f4d90bfa4ae8a25cd7561": {
      "model_module": "@jupyter-widgets/controls",
      "model_module_version": "1.5.0",
      "model_name": "IntProgressModel",
      "state": {
       "bar_style": "success",
       "description": "100.00%",
       "layout": "IPY_MODEL_ca6c8522495b4b95b9222d12f3620dd3",
       "max": 1560,
       "style": "IPY_MODEL_3f1e19c304ad492f8b36c3ec05ff19d1",
       "value": 1560
      }
     },
     "6f34eb89283f4ef0a446ad6ffb7c0abd": {
      "model_module": "@jupyter-widgets/controls",
      "model_module_version": "1.5.0",
      "model_name": "IntProgressModel",
      "state": {
       "bar_style": "success",
       "description": "100.00%",
       "layout": "IPY_MODEL_f4eabbe6b646437096007c13150798a7",
       "max": 1559,
       "style": "IPY_MODEL_5b8713a43be04cbfa084518cc075a97f",
       "value": 1559
      }
     },
     "6fb7fae3227c41a3947a750bc080baba": {
      "model_module": "@jupyter-widgets/controls",
      "model_module_version": "1.5.0",
      "model_name": "IntProgressModel",
      "state": {
       "bar_style": "success",
       "description": "100.00%",
       "layout": "IPY_MODEL_b739fb68d3f94a22b11c1dfcca585611",
       "max": 1559,
       "style": "IPY_MODEL_04111a355d9841c0993466efab74edd1",
       "value": 1559
      }
     },
     "707147d02a114e0dadf76b577059b1c2": {
      "model_module": "@jupyter-widgets/base",
      "model_module_version": "1.2.0",
      "model_name": "LayoutModel",
      "state": {}
     },
     "71606655cd524ceb823b399ae0006a0d": {
      "model_module": "@jupyter-widgets/base",
      "model_module_version": "1.2.0",
      "model_name": "LayoutModel",
      "state": {}
     },
     "7169f3b852d745e0af4d84cfecfcf25c": {
      "model_module": "@jupyter-widgets/controls",
      "model_module_version": "1.5.0",
      "model_name": "LabelModel",
      "state": {
       "layout": "IPY_MODEL_785aeed2e67340bab84ba5e82a327a61",
       "style": "IPY_MODEL_a55ea27394aa47b88718531f26197283",
       "value": "1560 / 1560"
      }
     },
     "71d6f7deb34d4c7681c5ced0e5416a73": {
      "model_module": "@jupyter-widgets/controls",
      "model_module_version": "1.5.0",
      "model_name": "DescriptionStyleModel",
      "state": {
       "description_width": ""
      }
     },
     "721e371c133a478893c55fe9c4501199": {
      "model_module": "@jupyter-widgets/controls",
      "model_module_version": "1.5.0",
      "model_name": "HBoxModel",
      "state": {
       "children": [
        "IPY_MODEL_d97aa9fd112d44cc9fce2dae2f66408e",
        "IPY_MODEL_a12afd1ac0134257b22d0d14d47df495"
       ],
       "layout": "IPY_MODEL_2a9a5a1c13514721a9b5858e94a2e3d8"
      }
     },
     "722e3cc51f8e47a98d7726359198d5b6": {
      "model_module": "@jupyter-widgets/controls",
      "model_module_version": "1.5.0",
      "model_name": "DescriptionStyleModel",
      "state": {
       "description_width": ""
      }
     },
     "72b8fe18efaa4c498f2636b0a8f15727": {
      "model_module": "@jupyter-widgets/controls",
      "model_module_version": "1.5.0",
      "model_name": "DescriptionStyleModel",
      "state": {
       "description_width": ""
      }
     },
     "72fbd8d95d174caf92cf1234b4c7af41": {
      "model_module": "@jupyter-widgets/controls",
      "model_module_version": "1.5.0",
      "model_name": "DescriptionStyleModel",
      "state": {
       "description_width": ""
      }
     },
     "7329c8daeb414311b2ba283d72eb4382": {
      "model_module": "@jupyter-widgets/controls",
      "model_module_version": "1.5.0",
      "model_name": "HBoxModel",
      "state": {
       "children": [
        "IPY_MODEL_87c02adcac704702b6f15e45d9155f83",
        "IPY_MODEL_11eb4bd04c934fb4ba68c042a3702ef1"
       ],
       "layout": "IPY_MODEL_35a1bbb271e74b299f1d53fc75cdd9bd"
      }
     },
     "736561fb8b0a42a99af0d90fbc4bb557": {
      "model_module": "@jupyter-widgets/base",
      "model_module_version": "1.2.0",
      "model_name": "LayoutModel",
      "state": {}
     },
     "74ad503e59674c6390cb8f4d750103c8": {
      "model_module": "@jupyter-widgets/controls",
      "model_module_version": "1.5.0",
      "model_name": "HBoxModel",
      "state": {
       "children": [
        "IPY_MODEL_0cc1829a909b436aab649bb43011b27e",
        "IPY_MODEL_26b65836eae64a11a56d6e153695a063"
       ],
       "layout": "IPY_MODEL_05ea21a38da5477a8de5a162c9885850"
      }
     },
     "75233385d25b43728b3a39a62b129bf5": {
      "model_module": "@jupyter-widgets/base",
      "model_module_version": "1.2.0",
      "model_name": "LayoutModel",
      "state": {}
     },
     "7559e49afb8046738d935d0e7f31101e": {
      "model_module": "@jupyter-widgets/base",
      "model_module_version": "1.2.0",
      "model_name": "LayoutModel",
      "state": {}
     },
     "75782798508345ff858984b9055d805c": {
      "model_module": "@jupyter-widgets/base",
      "model_module_version": "1.2.0",
      "model_name": "LayoutModel",
      "state": {}
     },
     "75c1cea1af524716821b696f3c77d245": {
      "model_module": "@jupyter-widgets/controls",
      "model_module_version": "1.5.0",
      "model_name": "DescriptionStyleModel",
      "state": {
       "description_width": ""
      }
     },
     "75f769f57d2c4a3ea84c2fca8ace4504": {
      "model_module": "@jupyter-widgets/controls",
      "model_module_version": "1.5.0",
      "model_name": "IntProgressModel",
      "state": {
       "bar_style": "success",
       "description": "100.00%",
       "layout": "IPY_MODEL_062f7b825a3d4190bc8df564c152fa47",
       "max": 1560,
       "style": "IPY_MODEL_269c7bf439c7406a956fa488fbe4287d",
       "value": 1560
      }
     },
     "76af338dc90f4ce8b61636cc97f5caf6": {
      "model_module": "@jupyter-widgets/base",
      "model_module_version": "1.2.0",
      "model_name": "LayoutModel",
      "state": {}
     },
     "76e2db49e0c14ebd93b34b8d37909278": {
      "model_module": "@jupyter-widgets/base",
      "model_module_version": "1.2.0",
      "model_name": "LayoutModel",
      "state": {}
     },
     "773bb5d4b61141c4ae4cbf8a4422bb64": {
      "model_module": "@jupyter-widgets/base",
      "model_module_version": "1.2.0",
      "model_name": "LayoutModel",
      "state": {}
     },
     "785aeed2e67340bab84ba5e82a327a61": {
      "model_module": "@jupyter-widgets/base",
      "model_module_version": "1.2.0",
      "model_name": "LayoutModel",
      "state": {}
     },
     "7a07b4e39b934f0ab5322e3b677761c8": {
      "model_module": "@jupyter-widgets/controls",
      "model_module_version": "1.5.0",
      "model_name": "HBoxModel",
      "state": {
       "children": [
        "IPY_MODEL_f9f2f09fbf524f079f3e6ce810a326d6",
        "IPY_MODEL_31876ad316274990a363aa35af00dc05"
       ],
       "layout": "IPY_MODEL_707147d02a114e0dadf76b577059b1c2"
      }
     },
     "7ace311f61aa4d7b95f6c00827884b16": {
      "model_module": "@jupyter-widgets/controls",
      "model_module_version": "1.5.0",
      "model_name": "HBoxModel",
      "state": {
       "children": [
        "IPY_MODEL_dca58a6329884adf963b7503d4b5b970",
        "IPY_MODEL_3a07b593563a45819cf7d7f7fc4b09fb"
       ],
       "layout": "IPY_MODEL_15fb47fb2d2247b0a0efc78889124547"
      }
     },
     "7b3396c492e745b2a0edf4ed862119ec": {
      "model_module": "@jupyter-widgets/controls",
      "model_module_version": "1.5.0",
      "model_name": "HBoxModel",
      "state": {
       "children": [
        "IPY_MODEL_3ff9e063d73146e6a2983bdbc517d0a1",
        "IPY_MODEL_7169f3b852d745e0af4d84cfecfcf25c"
       ],
       "layout": "IPY_MODEL_3272f4d374f445318f952b5064db14ac"
      }
     },
     "7b4897996a0d4d019141ea40eea26544": {
      "model_module": "@jupyter-widgets/base",
      "model_module_version": "1.2.0",
      "model_name": "LayoutModel",
      "state": {}
     },
     "7cab585b08ec4990a4dbd5ce201285a8": {
      "model_module": "@jupyter-widgets/controls",
      "model_module_version": "1.5.0",
      "model_name": "ProgressStyleModel",
      "state": {
       "description_width": ""
      }
     },
     "7dd172e5a49d4682a5ae876148a3fdad": {
      "model_module": "@jupyter-widgets/controls",
      "model_module_version": "1.5.0",
      "model_name": "DescriptionStyleModel",
      "state": {
       "description_width": ""
      }
     },
     "7e55c8ced8134e1b94565e2536209bd9": {
      "model_module": "@jupyter-widgets/controls",
      "model_module_version": "1.5.0",
      "model_name": "HBoxModel",
      "state": {
       "children": [
        "IPY_MODEL_21397ab261ea4d6584a1570b95a503f0",
        "IPY_MODEL_08ad24bd1f944617bfff0859a35aa86a"
       ],
       "layout": "IPY_MODEL_75782798508345ff858984b9055d805c"
      }
     },
     "7eab2ff91d32435093e79ad87a2acec3": {
      "model_module": "@jupyter-widgets/base",
      "model_module_version": "1.2.0",
      "model_name": "LayoutModel",
      "state": {}
     },
     "7eca996257ba4a8b9fa847cb0359c4ca": {
      "model_module": "@jupyter-widgets/controls",
      "model_module_version": "1.5.0",
      "model_name": "LabelModel",
      "state": {
       "layout": "IPY_MODEL_22809ded9cc94e4fb3890b100e31461f",
       "style": "IPY_MODEL_71d6f7deb34d4c7681c5ced0e5416a73",
       "value": "1559 / 1559"
      }
     },
     "7efcb9f7e2f44684bf8bbad1cb6d1562": {
      "model_module": "@jupyter-widgets/controls",
      "model_module_version": "1.5.0",
      "model_name": "HBoxModel",
      "state": {
       "children": [
        "IPY_MODEL_02e4f57502484471bb676f9204c56ffa",
        "IPY_MODEL_e86c3fcc56314d98a3cfbea9afaefe74"
       ],
       "layout": "IPY_MODEL_c85466ba74f64f209c50026e0002bfd0"
      }
     },
     "7f2795f8f16446db8063c713d5a6fb25": {
      "model_module": "@jupyter-widgets/controls",
      "model_module_version": "1.5.0",
      "model_name": "IntProgressModel",
      "state": {
       "bar_style": "success",
       "description": "100.00%",
       "layout": "IPY_MODEL_e5dc5520cba54856bba3bc60f407cae6",
       "max": 1560,
       "style": "IPY_MODEL_44a5379e603b4e018065de2cc7efc6bd",
       "value": 1560
      }
     },
     "80fa01644b3349038d614503a94ec4ef": {
      "model_module": "@jupyter-widgets/controls",
      "model_module_version": "1.5.0",
      "model_name": "DescriptionStyleModel",
      "state": {
       "description_width": ""
      }
     },
     "82ca167781e0492091b7bb2cdda0bdff": {
      "model_module": "@jupyter-widgets/controls",
      "model_module_version": "1.5.0",
      "model_name": "ProgressStyleModel",
      "state": {
       "description_width": ""
      }
     },
     "831cbec303d84f97be304de42462950f": {
      "model_module": "@jupyter-widgets/controls",
      "model_module_version": "1.5.0",
      "model_name": "IntProgressModel",
      "state": {
       "bar_style": "success",
       "description": "100.00%",
       "layout": "IPY_MODEL_ed5c7e6570384eb5972890e834155719",
       "max": 1559,
       "style": "IPY_MODEL_8420e99f213c47868e87098b4c64313e",
       "value": 1559
      }
     },
     "83aa67e9cae84a54873c0d6ee3cfc54b": {
      "model_module": "@jupyter-widgets/base",
      "model_module_version": "1.2.0",
      "model_name": "LayoutModel",
      "state": {}
     },
     "83b6e6d133f94ce1bcdc01ffab500686": {
      "model_module": "@jupyter-widgets/controls",
      "model_module_version": "1.5.0",
      "model_name": "IntProgressModel",
      "state": {
       "bar_style": "success",
       "description": "100.00%",
       "layout": "IPY_MODEL_90aad95083f44d4db77be9ad7d75442c",
       "max": 1560,
       "style": "IPY_MODEL_0d11ba68a3c04487b0b4243b0d771707",
       "value": 1560
      }
     },
     "84066a06bc1f4772930ad8bf7daf601c": {
      "model_module": "@jupyter-widgets/controls",
      "model_module_version": "1.5.0",
      "model_name": "DescriptionStyleModel",
      "state": {
       "description_width": ""
      }
     },
     "8420e99f213c47868e87098b4c64313e": {
      "model_module": "@jupyter-widgets/controls",
      "model_module_version": "1.5.0",
      "model_name": "ProgressStyleModel",
      "state": {
       "description_width": ""
      }
     },
     "8459f5a4f9354c56862866df18d09ea7": {
      "model_module": "@jupyter-widgets/controls",
      "model_module_version": "1.5.0",
      "model_name": "LabelModel",
      "state": {
       "layout": "IPY_MODEL_d27a45cb3b96430995be998ad6795245",
       "style": "IPY_MODEL_7dd172e5a49d4682a5ae876148a3fdad",
       "value": "1560 / 1560"
      }
     },
     "84859b6c3639453ab9ac6b8d7dcb2fb8": {
      "model_module": "@jupyter-widgets/controls",
      "model_module_version": "1.5.0",
      "model_name": "ProgressStyleModel",
      "state": {
       "description_width": ""
      }
     },
     "849d10cb891648e1b59b23536fa0715b": {
      "model_module": "@jupyter-widgets/controls",
      "model_module_version": "1.5.0",
      "model_name": "LabelModel",
      "state": {
       "layout": "IPY_MODEL_b3362e30bd2243d8a838216d166a1627",
       "style": "IPY_MODEL_fc39e145b7d1415aa9b417c991295c27",
       "value": "1560 / 1560"
      }
     },
     "8544bcfaec95449f8a8dcd44a298bb31": {
      "model_module": "@jupyter-widgets/controls",
      "model_module_version": "1.5.0",
      "model_name": "LabelModel",
      "state": {
       "layout": "IPY_MODEL_267bf5698e0d4a51a73d56a8945802c0",
       "style": "IPY_MODEL_64d39738bfbf4ee6addce9bf4ec48728",
       "value": "1559 / 1559"
      }
     },
     "85a7aecb7ac84acdb8b0180cae0693a2": {
      "model_module": "@jupyter-widgets/controls",
      "model_module_version": "1.5.0",
      "model_name": "DescriptionStyleModel",
      "state": {
       "description_width": ""
      }
     },
     "85b11778594746c6bfbbcbd01e6191d2": {
      "model_module": "@jupyter-widgets/controls",
      "model_module_version": "1.5.0",
      "model_name": "ProgressStyleModel",
      "state": {
       "description_width": ""
      }
     },
     "861a53f911f24574b9afdbbce07c5894": {
      "model_module": "@jupyter-widgets/base",
      "model_module_version": "1.2.0",
      "model_name": "LayoutModel",
      "state": {}
     },
     "86312fd95d1240c9bd808547ad60d261": {
      "model_module": "@jupyter-widgets/controls",
      "model_module_version": "1.5.0",
      "model_name": "DescriptionStyleModel",
      "state": {
       "description_width": ""
      }
     },
     "86365a9f7fb442118de5617fd72f52c9": {
      "model_module": "@jupyter-widgets/base",
      "model_module_version": "1.2.0",
      "model_name": "LayoutModel",
      "state": {}
     },
     "8743eb8e98334e8ca3e20cfac07aebdb": {
      "model_module": "@jupyter-widgets/controls",
      "model_module_version": "1.5.0",
      "model_name": "ProgressStyleModel",
      "state": {
       "description_width": ""
      }
     },
     "876d5fbdad1b46b38deb4d0c7994202f": {
      "model_module": "@jupyter-widgets/base",
      "model_module_version": "1.2.0",
      "model_name": "LayoutModel",
      "state": {}
     },
     "87c02adcac704702b6f15e45d9155f83": {
      "model_module": "@jupyter-widgets/controls",
      "model_module_version": "1.5.0",
      "model_name": "IntProgressModel",
      "state": {
       "bar_style": "success",
       "description": "100.00%",
       "layout": "IPY_MODEL_25903d1e92864cdda0026bd8c9a735e4",
       "max": 1559,
       "style": "IPY_MODEL_bd5f952a875742909de29db7204bda76",
       "value": 1559
      }
     },
     "87e19e2370aa4a4d927b0cc2186e3ba8": {
      "model_module": "@jupyter-widgets/base",
      "model_module_version": "1.2.0",
      "model_name": "LayoutModel",
      "state": {}
     },
     "882b5476b68043acbca049acd045a6d6": {
      "model_module": "@jupyter-widgets/base",
      "model_module_version": "1.2.0",
      "model_name": "LayoutModel",
      "state": {}
     },
     "88329dab14924d1eaeaee35e2a65f26a": {
      "model_module": "@jupyter-widgets/base",
      "model_module_version": "1.2.0",
      "model_name": "LayoutModel",
      "state": {}
     },
     "8992f219f45241c4971f0d63d10034c0": {
      "model_module": "@jupyter-widgets/controls",
      "model_module_version": "1.5.0",
      "model_name": "IntProgressModel",
      "state": {
       "bar_style": "success",
       "description": "100.00%",
       "layout": "IPY_MODEL_47293faee22a47099e224ce5c9a1597c",
       "max": 1559,
       "style": "IPY_MODEL_c7780130cc414b3bb276295530091107",
       "value": 1559
      }
     },
     "8a56e27c23db4a569c157685bc3fd5b8": {
      "model_module": "@jupyter-widgets/base",
      "model_module_version": "1.2.0",
      "model_name": "LayoutModel",
      "state": {}
     },
     "8ace86e1659f48d7b9d8011481e2a5ba": {
      "model_module": "@jupyter-widgets/controls",
      "model_module_version": "1.5.0",
      "model_name": "HBoxModel",
      "state": {
       "children": [
        "IPY_MODEL_5d16f56edcf1412a8e3263f332c6b555",
        "IPY_MODEL_3830f11e71da4adab7e73918ee0753f3"
       ],
       "layout": "IPY_MODEL_876d5fbdad1b46b38deb4d0c7994202f"
      }
     },
     "8b2677d1100343d6a0ca6a31e2d9d5d9": {
      "model_module": "@jupyter-widgets/controls",
      "model_module_version": "1.5.0",
      "model_name": "ProgressStyleModel",
      "state": {
       "description_width": ""
      }
     },
     "8e3a9ba2c6e34fea994f2ef4fc085bc2": {
      "model_module": "@jupyter-widgets/base",
      "model_module_version": "1.2.0",
      "model_name": "LayoutModel",
      "state": {}
     },
     "8f99990d725543e791fe9d0555d44437": {
      "model_module": "@jupyter-widgets/base",
      "model_module_version": "1.2.0",
      "model_name": "LayoutModel",
      "state": {}
     },
     "8fb32496317a4f3a9dd91724374d6f9a": {
      "model_module": "@jupyter-widgets/controls",
      "model_module_version": "1.5.0",
      "model_name": "DescriptionStyleModel",
      "state": {
       "description_width": ""
      }
     },
     "8fef9af94f8c4f0a9c3d2c595700c181": {
      "model_module": "@jupyter-widgets/controls",
      "model_module_version": "1.5.0",
      "model_name": "HBoxModel",
      "state": {
       "children": [
        "IPY_MODEL_4bf29c9d95944607bebc9fea4bcd3605",
        "IPY_MODEL_0d39199efbfb40c2af632c2c33323595"
       ],
       "layout": "IPY_MODEL_2b5e8d398ba344ffa289cf867746571d"
      }
     },
     "900d114bce814ed1a5d52ecfc652140f": {
      "model_module": "@jupyter-widgets/controls",
      "model_module_version": "1.5.0",
      "model_name": "LabelModel",
      "state": {
       "layout": "IPY_MODEL_4269a9d0e12f4f7cb29ce8c2877b7dac",
       "style": "IPY_MODEL_4f355e7a1ff4467a81d87f4ce1e602d4",
       "value": "1559 / 1559"
      }
     },
     "90aad95083f44d4db77be9ad7d75442c": {
      "model_module": "@jupyter-widgets/base",
      "model_module_version": "1.2.0",
      "model_name": "LayoutModel",
      "state": {}
     },
     "918a3d00b871462db157d7855cee1f63": {
      "model_module": "@jupyter-widgets/controls",
      "model_module_version": "1.5.0",
      "model_name": "IntProgressModel",
      "state": {
       "bar_style": "success",
       "description": "100.00%",
       "layout": "IPY_MODEL_bb3edf85c0984717a684a5e7f671ce3b",
       "max": 1559,
       "style": "IPY_MODEL_2eccf3cbbcc24456bc2cfb43c9b4f697",
       "value": 1559
      }
     },
     "918ee32d15de436b9ba7da932ccb82d1": {
      "model_module": "@jupyter-widgets/base",
      "model_module_version": "1.2.0",
      "model_name": "LayoutModel",
      "state": {}
     },
     "91ea3064bf8740819219a473cd5ee593": {
      "model_module": "@jupyter-widgets/controls",
      "model_module_version": "1.5.0",
      "model_name": "DescriptionStyleModel",
      "state": {
       "description_width": ""
      }
     },
     "926d21fa64ff4f948e64a60de02448d7": {
      "model_module": "@jupyter-widgets/base",
      "model_module_version": "1.2.0",
      "model_name": "LayoutModel",
      "state": {}
     },
     "94d7ce57f1fe4a3897ef4fb902c8338d": {
      "model_module": "@jupyter-widgets/controls",
      "model_module_version": "1.5.0",
      "model_name": "DescriptionStyleModel",
      "state": {
       "description_width": ""
      }
     },
     "9655a88f1f1d4537bb2f197ae1b1b77b": {
      "model_module": "@jupyter-widgets/controls",
      "model_module_version": "1.5.0",
      "model_name": "DescriptionStyleModel",
      "state": {
       "description_width": ""
      }
     },
     "96af8d1c19c04a56ab5bd1153f6d0950": {
      "model_module": "@jupyter-widgets/controls",
      "model_module_version": "1.5.0",
      "model_name": "IntProgressModel",
      "state": {
       "bar_style": "success",
       "description": "100.00%",
       "layout": "IPY_MODEL_12b324c533c6415a828eeef1121873a8",
       "max": 1560,
       "style": "IPY_MODEL_68e47b7b98384e7a85632d9079640475",
       "value": 1560
      }
     },
     "976b5d735e92427a93f91c3a043d4aa2": {
      "model_module": "@jupyter-widgets/controls",
      "model_module_version": "1.5.0",
      "model_name": "DescriptionStyleModel",
      "state": {
       "description_width": ""
      }
     },
     "978d32e55fdd4c7da626fbee2f1e81e8": {
      "model_module": "@jupyter-widgets/controls",
      "model_module_version": "1.5.0",
      "model_name": "IntProgressModel",
      "state": {
       "bar_style": "success",
       "description": "100.00%",
       "layout": "IPY_MODEL_f85e91c0568148e2acfdaade788d07ae",
       "max": 1560,
       "style": "IPY_MODEL_4dfd6f797d5043daa7fc4c39cae1e9a1",
       "value": 1560
      }
     },
     "994841f46e9c496d8a40d8c4496807fa": {
      "model_module": "@jupyter-widgets/controls",
      "model_module_version": "1.5.0",
      "model_name": "HBoxModel",
      "state": {
       "children": [
        "IPY_MODEL_b2a186dda4d54399a517f9dbdd0286d6",
        "IPY_MODEL_cc320768142d4107a7f18c2760c71ec9"
       ],
       "layout": "IPY_MODEL_3a94450a97b2401dbd5ac6fda4ba184a"
      }
     },
     "9a9815d2400e423ea61b832649052e70": {
      "model_module": "@jupyter-widgets/controls",
      "model_module_version": "1.5.0",
      "model_name": "ProgressStyleModel",
      "state": {
       "description_width": ""
      }
     },
     "9ac2ae40d46b43f1aa0cd99b256b5683": {
      "model_module": "@jupyter-widgets/base",
      "model_module_version": "1.2.0",
      "model_name": "LayoutModel",
      "state": {}
     },
     "9aec34c2f925488a93029c3114152f7f": {
      "model_module": "@jupyter-widgets/controls",
      "model_module_version": "1.5.0",
      "model_name": "IntProgressModel",
      "state": {
       "bar_style": "success",
       "description": "100.00%",
       "layout": "IPY_MODEL_cc4b1314d18740de902981cb4d029ba2",
       "max": 1560,
       "style": "IPY_MODEL_7cab585b08ec4990a4dbd5ce201285a8",
       "value": 1560
      }
     },
     "9bf1befbeed54ed1ad6a732e8905a17b": {
      "model_module": "@jupyter-widgets/controls",
      "model_module_version": "1.5.0",
      "model_name": "DescriptionStyleModel",
      "state": {
       "description_width": ""
      }
     },
     "9c7abfc6751b4ea6b5d26d4622ada42d": {
      "model_module": "@jupyter-widgets/controls",
      "model_module_version": "1.5.0",
      "model_name": "LabelModel",
      "state": {
       "layout": "IPY_MODEL_4623eb60e151449db3d35b80c5641dcc",
       "style": "IPY_MODEL_61b72985eae04d4caf567ca6af03f01c",
       "value": "1560 / 1560"
      }
     },
     "9d9c15c10e144e628df98abf54286cf9": {
      "model_module": "@jupyter-widgets/controls",
      "model_module_version": "1.5.0",
      "model_name": "DescriptionStyleModel",
      "state": {
       "description_width": ""
      }
     },
     "9dd51f8e17654512ab55a510b3f280a9": {
      "model_module": "@jupyter-widgets/controls",
      "model_module_version": "1.5.0",
      "model_name": "DescriptionStyleModel",
      "state": {
       "description_width": ""
      }
     },
     "9f8ee8d870034fcf881dc76314ada3e4": {
      "model_module": "@jupyter-widgets/controls",
      "model_module_version": "1.5.0",
      "model_name": "LabelModel",
      "state": {
       "layout": "IPY_MODEL_2be296a015af465da4b1a2058a9d548c",
       "style": "IPY_MODEL_a487b7be39444300bf064ce3d60b3a68",
       "value": "1560 / 1560"
      }
     },
     "9ff761d0d37d4b6e8f3759d0cf6ca606": {
      "model_module": "@jupyter-widgets/controls",
      "model_module_version": "1.5.0",
      "model_name": "HBoxModel",
      "state": {
       "children": [
        "IPY_MODEL_457fbbaa6cc64c2281419f471734b378",
        "IPY_MODEL_7eca996257ba4a8b9fa847cb0359c4ca"
       ],
       "layout": "IPY_MODEL_57733275e1d54b199f7b6e7f3bec5290"
      }
     },
     "a033582fa8ac4fc0a37c5e88aaa250f2": {
      "model_module": "@jupyter-widgets/base",
      "model_module_version": "1.2.0",
      "model_name": "LayoutModel",
      "state": {}
     },
     "a08063e7d6f04488a34e33b73a63a745": {
      "model_module": "@jupyter-widgets/controls",
      "model_module_version": "1.5.0",
      "model_name": "ProgressStyleModel",
      "state": {
       "description_width": ""
      }
     },
     "a12afd1ac0134257b22d0d14d47df495": {
      "model_module": "@jupyter-widgets/controls",
      "model_module_version": "1.5.0",
      "model_name": "LabelModel",
      "state": {
       "layout": "IPY_MODEL_183b81b8d1d64285a3a9c573a623be97",
       "style": "IPY_MODEL_04bc737f0aeb44d0b7877a687711917f",
       "value": "1559 / 1559"
      }
     },
     "a2134517ed724a4983d32614e7cfb887": {
      "model_module": "@jupyter-widgets/base",
      "model_module_version": "1.2.0",
      "model_name": "LayoutModel",
      "state": {}
     },
     "a24009cf1b7545bdb280cc785694b4d5": {
      "model_module": "@jupyter-widgets/controls",
      "model_module_version": "1.5.0",
      "model_name": "ProgressStyleModel",
      "state": {
       "description_width": ""
      }
     },
     "a2b749e2ef724185a8f306883faa3666": {
      "model_module": "@jupyter-widgets/base",
      "model_module_version": "1.2.0",
      "model_name": "LayoutModel",
      "state": {}
     },
     "a487b7be39444300bf064ce3d60b3a68": {
      "model_module": "@jupyter-widgets/controls",
      "model_module_version": "1.5.0",
      "model_name": "DescriptionStyleModel",
      "state": {
       "description_width": ""
      }
     },
     "a5431a3ab1804a07a6c7a04a889ecd8c": {
      "model_module": "@jupyter-widgets/controls",
      "model_module_version": "1.5.0",
      "model_name": "HBoxModel",
      "state": {
       "children": [
        "IPY_MODEL_978d32e55fdd4c7da626fbee2f1e81e8",
        "IPY_MODEL_1559fc4f45884485a3eea71a728c82f1"
       ],
       "layout": "IPY_MODEL_0f6dc73054ee40d7a272277f3bfe9d64"
      }
     },
     "a55ea27394aa47b88718531f26197283": {
      "model_module": "@jupyter-widgets/controls",
      "model_module_version": "1.5.0",
      "model_name": "DescriptionStyleModel",
      "state": {
       "description_width": ""
      }
     },
     "a5969ee65833435ea85b8c580eb657bd": {
      "model_module": "@jupyter-widgets/base",
      "model_module_version": "1.2.0",
      "model_name": "LayoutModel",
      "state": {}
     },
     "a5a57f1445dc48229a191e0e7adb3f94": {
      "model_module": "@jupyter-widgets/base",
      "model_module_version": "1.2.0",
      "model_name": "LayoutModel",
      "state": {}
     },
     "a61b86c3e9d840c58673bac83c96a593": {
      "model_module": "@jupyter-widgets/controls",
      "model_module_version": "1.5.0",
      "model_name": "ProgressStyleModel",
      "state": {
       "description_width": ""
      }
     },
     "a822a792268745f1bdf799b31b51c018": {
      "model_module": "@jupyter-widgets/base",
      "model_module_version": "1.2.0",
      "model_name": "LayoutModel",
      "state": {}
     },
     "a84f63d833434782a550f2928ade7b62": {
      "model_module": "@jupyter-widgets/controls",
      "model_module_version": "1.5.0",
      "model_name": "LabelModel",
      "state": {
       "layout": "IPY_MODEL_a5a57f1445dc48229a191e0e7adb3f94",
       "style": "IPY_MODEL_cbbc737cd09445f19189087641a2c50e",
       "value": "1560 / 1560"
      }
     },
     "a8f0551299974e4b91af1c7224c452fe": {
      "model_module": "@jupyter-widgets/controls",
      "model_module_version": "1.5.0",
      "model_name": "HBoxModel",
      "state": {
       "children": [
        "IPY_MODEL_918a3d00b871462db157d7855cee1f63",
        "IPY_MODEL_171d05ece1614383a8fd3d9da4184e75"
       ],
       "layout": "IPY_MODEL_c071a5b453724758afae33181b653061"
      }
     },
     "a92285cd59ef43ab82ed0a7f19e85f03": {
      "model_module": "@jupyter-widgets/base",
      "model_module_version": "1.2.0",
      "model_name": "LayoutModel",
      "state": {}
     },
     "a96d14707bf14406b388106d3c070ccb": {
      "model_module": "@jupyter-widgets/base",
      "model_module_version": "1.2.0",
      "model_name": "LayoutModel",
      "state": {}
     },
     "aa58471a48fd497496e26a36e28b3e5b": {
      "model_module": "@jupyter-widgets/base",
      "model_module_version": "1.2.0",
      "model_name": "LayoutModel",
      "state": {}
     },
     "ab92745f6c094bd3a2876045bb2e9aec": {
      "model_module": "@jupyter-widgets/controls",
      "model_module_version": "1.5.0",
      "model_name": "HBoxModel",
      "state": {
       "children": [
        "IPY_MODEL_6e3dd062304f4d90bfa4ae8a25cd7561",
        "IPY_MODEL_3dab68f2af5c48f2beae0c52b221f055"
       ],
       "layout": "IPY_MODEL_d83c34eb60d04e7881ab9e152bb26094"
      }
     },
     "abb9a3f60f17422182b37231d9554f20": {
      "model_module": "@jupyter-widgets/controls",
      "model_module_version": "1.5.0",
      "model_name": "HBoxModel",
      "state": {
       "children": [
        "IPY_MODEL_75f769f57d2c4a3ea84c2fca8ace4504",
        "IPY_MODEL_e99e8a63ebe34a939d17046c2dfcf60a"
       ],
       "layout": "IPY_MODEL_bbe7c3c5f4b74f4f9ee8d0e6603ba7a6"
      }
     },
     "ac119e87ab1f413381236f12c6590377": {
      "model_module": "@jupyter-widgets/controls",
      "model_module_version": "1.5.0",
      "model_name": "IntProgressModel",
      "state": {
       "bar_style": "success",
       "description": "100.00%",
       "layout": "IPY_MODEL_2f9dc1d7609b44e6ac81572654bee2cf",
       "max": 1560,
       "style": "IPY_MODEL_d73910258f464a9a8d5fd9703b8f74a5",
       "value": 1560
      }
     },
     "ac98a2786b56480c87d2c7162cc12f32": {
      "model_module": "@jupyter-widgets/controls",
      "model_module_version": "1.5.0",
      "model_name": "IntProgressModel",
      "state": {
       "bar_style": "success",
       "description": "100.00%",
       "layout": "IPY_MODEL_bd0b3f6a07254042b310952f9f066704",
       "max": 1560,
       "style": "IPY_MODEL_3dcda559a63242a8956a1f09d0c1a601",
       "value": 1560
      }
     },
     "ad58cc6dec9141c5946bbd345f4f9324": {
      "model_module": "@jupyter-widgets/controls",
      "model_module_version": "1.5.0",
      "model_name": "ProgressStyleModel",
      "state": {
       "description_width": ""
      }
     },
     "adc26b54b7714359bb028d006257f9d7": {
      "model_module": "@jupyter-widgets/controls",
      "model_module_version": "1.5.0",
      "model_name": "LabelModel",
      "state": {
       "layout": "IPY_MODEL_a033582fa8ac4fc0a37c5e88aaa250f2",
       "style": "IPY_MODEL_0a6a02e68ef44d839b94cf14a1125b0d",
       "value": "1559 / 1559"
      }
     },
     "ae3f36a831a54374b67164939d43f434": {
      "model_module": "@jupyter-widgets/controls",
      "model_module_version": "1.5.0",
      "model_name": "IntProgressModel",
      "state": {
       "bar_style": "success",
       "description": "100.00%",
       "layout": "IPY_MODEL_263356eee32249b8a4500e2d524f6678",
       "max": 1560,
       "style": "IPY_MODEL_4dc63b6533834cf184fb4243770830e2",
       "value": 1560
      }
     },
     "ae60f16449f64c0b8253c04fbceda497": {
      "model_module": "@jupyter-widgets/controls",
      "model_module_version": "1.5.0",
      "model_name": "LabelModel",
      "state": {
       "layout": "IPY_MODEL_d72d165e5ec34b7c8ac29e64ee5a462d",
       "style": "IPY_MODEL_75c1cea1af524716821b696f3c77d245",
       "value": "1560 / 1560"
      }
     },
     "aec0a1d2281849569741fbb74d3c3609": {
      "model_module": "@jupyter-widgets/controls",
      "model_module_version": "1.5.0",
      "model_name": "DescriptionStyleModel",
      "state": {
       "description_width": ""
      }
     },
     "b0322cd07ed24e3f9f35270228599067": {
      "model_module": "@jupyter-widgets/base",
      "model_module_version": "1.2.0",
      "model_name": "LayoutModel",
      "state": {}
     },
     "b05672d6aaee42339b5925e482049ed9": {
      "model_module": "@jupyter-widgets/controls",
      "model_module_version": "1.5.0",
      "model_name": "IntProgressModel",
      "state": {
       "bar_style": "success",
       "description": "100.00%",
       "layout": "IPY_MODEL_3bf91da0feef40bea11df5301c64291e",
       "max": 1560,
       "style": "IPY_MODEL_fbf2edf149f24213b37e9562bc54c474",
       "value": 1560
      }
     },
     "b145efaee32744ab87e61e876f98ed07": {
      "model_module": "@jupyter-widgets/controls",
      "model_module_version": "1.5.0",
      "model_name": "ProgressStyleModel",
      "state": {
       "description_width": ""
      }
     },
     "b1dfce6692a74b33a3d54a5372647738": {
      "model_module": "@jupyter-widgets/controls",
      "model_module_version": "1.5.0",
      "model_name": "IntProgressModel",
      "state": {
       "bar_style": "success",
       "description": "100.00%",
       "layout": "IPY_MODEL_e2c2ac272dea4bf5bfa07fc2ddb07498",
       "max": 1559,
       "style": "IPY_MODEL_a24009cf1b7545bdb280cc785694b4d5",
       "value": 1559
      }
     },
     "b2346dd48739458a914092ea45f4bbe9": {
      "model_module": "@jupyter-widgets/base",
      "model_module_version": "1.2.0",
      "model_name": "LayoutModel",
      "state": {}
     },
     "b2a186dda4d54399a517f9dbdd0286d6": {
      "model_module": "@jupyter-widgets/controls",
      "model_module_version": "1.5.0",
      "model_name": "IntProgressModel",
      "state": {
       "bar_style": "success",
       "description": "100.00%",
       "layout": "IPY_MODEL_0e49df75eb59445e945a99b843274b91",
       "max": 1559,
       "style": "IPY_MODEL_d7c42df2e4ce4d4ebf1b00eda34f1e88",
       "value": 1559
      }
     },
     "b2bc334d23ce4297acd30765b15041b6": {
      "model_module": "@jupyter-widgets/base",
      "model_module_version": "1.2.0",
      "model_name": "LayoutModel",
      "state": {}
     },
     "b2cd2d8e94d74685854eac5d495aa082": {
      "model_module": "@jupyter-widgets/controls",
      "model_module_version": "1.5.0",
      "model_name": "ProgressStyleModel",
      "state": {
       "description_width": ""
      }
     },
     "b3362e30bd2243d8a838216d166a1627": {
      "model_module": "@jupyter-widgets/base",
      "model_module_version": "1.2.0",
      "model_name": "LayoutModel",
      "state": {}
     },
     "b3dbe6efac404467a74aa85964038ba1": {
      "model_module": "@jupyter-widgets/controls",
      "model_module_version": "1.5.0",
      "model_name": "DescriptionStyleModel",
      "state": {
       "description_width": ""
      }
     },
     "b4b15924781c48639124cf3fcb01fe9b": {
      "model_module": "@jupyter-widgets/controls",
      "model_module_version": "1.5.0",
      "model_name": "HBoxModel",
      "state": {
       "children": [
        "IPY_MODEL_30668052a1c54c878da8639137e3bcc4",
        "IPY_MODEL_c11614c1ba0744a6af3d654f36ec32f5"
       ],
       "layout": "IPY_MODEL_35f4a93b510f4cebbd8bd18336739cb0"
      }
     },
     "b4ed1ee1048849e28986d222a164523d": {
      "model_module": "@jupyter-widgets/controls",
      "model_module_version": "1.5.0",
      "model_name": "ProgressStyleModel",
      "state": {
       "description_width": ""
      }
     },
     "b5619948e00e49bc84aabb466e83db5f": {
      "model_module": "@jupyter-widgets/base",
      "model_module_version": "1.2.0",
      "model_name": "LayoutModel",
      "state": {}
     },
     "b739fb68d3f94a22b11c1dfcca585611": {
      "model_module": "@jupyter-widgets/base",
      "model_module_version": "1.2.0",
      "model_name": "LayoutModel",
      "state": {}
     },
     "b7ab7788b6f54ee89c7b2823c50066ab": {
      "model_module": "@jupyter-widgets/base",
      "model_module_version": "1.2.0",
      "model_name": "LayoutModel",
      "state": {}
     },
     "b7b64e0271d543e1ac3dd8f61f53ff6a": {
      "model_module": "@jupyter-widgets/base",
      "model_module_version": "1.2.0",
      "model_name": "LayoutModel",
      "state": {}
     },
     "b7ed327e9d3d438081767fe23685fe83": {
      "model_module": "@jupyter-widgets/controls",
      "model_module_version": "1.5.0",
      "model_name": "HBoxModel",
      "state": {
       "children": [
        "IPY_MODEL_96af8d1c19c04a56ab5bd1153f6d0950",
        "IPY_MODEL_849d10cb891648e1b59b23536fa0715b"
       ],
       "layout": "IPY_MODEL_623ec98660ca40c8abe1ed867a2486f1"
      }
     },
     "b8bae3b746804e718f76da34baa01420": {
      "model_module": "@jupyter-widgets/controls",
      "model_module_version": "1.5.0",
      "model_name": "IntProgressModel",
      "state": {
       "bar_style": "success",
       "description": "100.00%",
       "layout": "IPY_MODEL_63ade4cde0a44b6385655af3371ac7e0",
       "max": 1560,
       "style": "IPY_MODEL_beca92ffce98435c81ea62001afed730",
       "value": 1560
      }
     },
     "b8f410188f9f4005be95105ff8f82f1e": {
      "model_module": "@jupyter-widgets/controls",
      "model_module_version": "1.5.0",
      "model_name": "ProgressStyleModel",
      "state": {
       "description_width": ""
      }
     },
     "b9a624b717854f3eb214df25a310d2bb": {
      "model_module": "@jupyter-widgets/base",
      "model_module_version": "1.2.0",
      "model_name": "LayoutModel",
      "state": {}
     },
     "b9b928cecd04450c9c4a38c14501b593": {
      "model_module": "@jupyter-widgets/controls",
      "model_module_version": "1.5.0",
      "model_name": "LabelModel",
      "state": {
       "layout": "IPY_MODEL_e358d6a9e881450789930f7c76754acb",
       "style": "IPY_MODEL_c15ff8a1cfe54d708824a1d63f13c673",
       "value": "1560 / 1560"
      }
     },
     "baa4d2cf7b0c4aec87919b9d70fd981a": {
      "model_module": "@jupyter-widgets/controls",
      "model_module_version": "1.5.0",
      "model_name": "IntProgressModel",
      "state": {
       "bar_style": "success",
       "description": "100.00%",
       "layout": "IPY_MODEL_19c359630bc642a2aec9f89fd6d32cd1",
       "max": 1559,
       "style": "IPY_MODEL_058179a7532a4ec4aabd7a80cb7b608c",
       "value": 1559
      }
     },
     "bb2bad8666604a1ba5b895799697ac6a": {
      "model_module": "@jupyter-widgets/controls",
      "model_module_version": "1.5.0",
      "model_name": "DescriptionStyleModel",
      "state": {
       "description_width": ""
      }
     },
     "bb3edf85c0984717a684a5e7f671ce3b": {
      "model_module": "@jupyter-widgets/base",
      "model_module_version": "1.2.0",
      "model_name": "LayoutModel",
      "state": {}
     },
     "bbe7c3c5f4b74f4f9ee8d0e6603ba7a6": {
      "model_module": "@jupyter-widgets/base",
      "model_module_version": "1.2.0",
      "model_name": "LayoutModel",
      "state": {}
     },
     "bc45f96290e6431e9e6bff0da16c4349": {
      "model_module": "@jupyter-widgets/base",
      "model_module_version": "1.2.0",
      "model_name": "LayoutModel",
      "state": {}
     },
     "bc4dee90d6644931875444b4597e9af4": {
      "model_module": "@jupyter-widgets/controls",
      "model_module_version": "1.5.0",
      "model_name": "LabelModel",
      "state": {
       "layout": "IPY_MODEL_eadb45b4904149e18d04f2e68ca5c6a4",
       "style": "IPY_MODEL_976b5d735e92427a93f91c3a043d4aa2",
       "value": "1559 / 1559"
      }
     },
     "bc50a12d4207497589d6edec5394d3d2": {
      "model_module": "@jupyter-widgets/base",
      "model_module_version": "1.2.0",
      "model_name": "LayoutModel",
      "state": {}
     },
     "bc5173f683b94ae1960c9d11ae7425a9": {
      "model_module": "@jupyter-widgets/controls",
      "model_module_version": "1.5.0",
      "model_name": "LabelModel",
      "state": {
       "layout": "IPY_MODEL_d766b93b777f492bb0d5999858996a8a",
       "style": "IPY_MODEL_c83f6e38d78b420e834da7968732d56b",
       "value": "1560 / 1560"
      }
     },
     "bc9b32b96dac4d7e8ffb1d031d7093e8": {
      "model_module": "@jupyter-widgets/base",
      "model_module_version": "1.2.0",
      "model_name": "LayoutModel",
      "state": {}
     },
     "bcdc8968ad614060a02e4880cb99678f": {
      "model_module": "@jupyter-widgets/controls",
      "model_module_version": "1.5.0",
      "model_name": "LabelModel",
      "state": {
       "layout": "IPY_MODEL_bc9b32b96dac4d7e8ffb1d031d7093e8",
       "style": "IPY_MODEL_51ec1f7dac774ebab4bae99643d62b4d",
       "value": "1560 / 1560"
      }
     },
     "bd033cf59022466aa12284bf5050b7ec": {
      "model_module": "@jupyter-widgets/controls",
      "model_module_version": "1.5.0",
      "model_name": "HBoxModel",
      "state": {
       "children": [
        "IPY_MODEL_2ce2a65704314e5c92c7c8ac9f0db763",
        "IPY_MODEL_8459f5a4f9354c56862866df18d09ea7"
       ],
       "layout": "IPY_MODEL_517462d334524d4d82a0a3f89c59ca63"
      }
     },
     "bd0b3f6a07254042b310952f9f066704": {
      "model_module": "@jupyter-widgets/base",
      "model_module_version": "1.2.0",
      "model_name": "LayoutModel",
      "state": {}
     },
     "bd162b4e44c749ee89d1151ac5a2be79": {
      "model_module": "@jupyter-widgets/controls",
      "model_module_version": "1.5.0",
      "model_name": "LabelModel",
      "state": {
       "layout": "IPY_MODEL_23393873ddbc4eb6873f77eb3e9707a2",
       "style": "IPY_MODEL_e4fd0e0c457d4b2c97817cbe5821ee2b",
       "value": "1559 / 1559"
      }
     },
     "bd5f952a875742909de29db7204bda76": {
      "model_module": "@jupyter-widgets/controls",
      "model_module_version": "1.5.0",
      "model_name": "ProgressStyleModel",
      "state": {
       "description_width": ""
      }
     },
     "bdb48db5d0804f14ad1c2e06185728b1": {
      "model_module": "@jupyter-widgets/controls",
      "model_module_version": "1.5.0",
      "model_name": "IntProgressModel",
      "state": {
       "bar_style": "success",
       "description": "100.00%",
       "layout": "IPY_MODEL_47fbc8c453c44a7295eb8d99e91385c4",
       "max": 1560,
       "style": "IPY_MODEL_60c2b389c15a4bab8d67ca9381cec3dc",
       "value": 1560
      }
     },
     "bea6a29be0324a538e1d1a66b78aaeb5": {
      "model_module": "@jupyter-widgets/controls",
      "model_module_version": "1.5.0",
      "model_name": "ProgressStyleModel",
      "state": {
       "description_width": ""
      }
     },
     "beca92ffce98435c81ea62001afed730": {
      "model_module": "@jupyter-widgets/controls",
      "model_module_version": "1.5.0",
      "model_name": "ProgressStyleModel",
      "state": {
       "description_width": ""
      }
     },
     "c071a5b453724758afae33181b653061": {
      "model_module": "@jupyter-widgets/base",
      "model_module_version": "1.2.0",
      "model_name": "LayoutModel",
      "state": {}
     },
     "c09e707e5cd34101bd97946611574d0e": {
      "model_module": "@jupyter-widgets/controls",
      "model_module_version": "1.5.0",
      "model_name": "IntProgressModel",
      "state": {
       "bar_style": "success",
       "description": "100.00%",
       "layout": "IPY_MODEL_041d630b1a4d48a5b17e7f9c9bc206e5",
       "max": 1559,
       "style": "IPY_MODEL_bea6a29be0324a538e1d1a66b78aaeb5",
       "value": 1559
      }
     },
     "c0c970f28d924dc5b90dd797d719c62c": {
      "model_module": "@jupyter-widgets/base",
      "model_module_version": "1.2.0",
      "model_name": "LayoutModel",
      "state": {}
     },
     "c11614c1ba0744a6af3d654f36ec32f5": {
      "model_module": "@jupyter-widgets/controls",
      "model_module_version": "1.5.0",
      "model_name": "LabelModel",
      "state": {
       "layout": "IPY_MODEL_5b948924e5934194b4c1bd8274553479",
       "style": "IPY_MODEL_722e3cc51f8e47a98d7726359198d5b6",
       "value": "1560 / 1560"
      }
     },
     "c15ff8a1cfe54d708824a1d63f13c673": {
      "model_module": "@jupyter-widgets/controls",
      "model_module_version": "1.5.0",
      "model_name": "DescriptionStyleModel",
      "state": {
       "description_width": ""
      }
     },
     "c1fd6313302c472ea963de98898f76c4": {
      "model_module": "@jupyter-widgets/base",
      "model_module_version": "1.2.0",
      "model_name": "LayoutModel",
      "state": {}
     },
     "c28e3dc7ed564de0a1cfddb089e3b134": {
      "model_module": "@jupyter-widgets/controls",
      "model_module_version": "1.5.0",
      "model_name": "IntProgressModel",
      "state": {
       "bar_style": "success",
       "description": "100.00%",
       "layout": "IPY_MODEL_627f9247d6884aa3bddfdc2312442c93",
       "max": 1559,
       "style": "IPY_MODEL_42d4ba71386847818b837e85eabeb18f",
       "value": 1559
      }
     },
     "c2a03edc23b94ee394b8c9de864ae3dd": {
      "model_module": "@jupyter-widgets/controls",
      "model_module_version": "1.5.0",
      "model_name": "HBoxModel",
      "state": {
       "children": [
        "IPY_MODEL_1c08dcc25fd34b43b3e19a4b8f6a746b",
        "IPY_MODEL_0e05d337a5cc4aa2a3fe3cf00db7476e"
       ],
       "layout": "IPY_MODEL_081064a1c0934402b0220f725191cf82"
      }
     },
     "c3af80b6b72e4a1ebbc332dd6d9696ad": {
      "model_module": "@jupyter-widgets/controls",
      "model_module_version": "1.5.0",
      "model_name": "LabelModel",
      "state": {
       "layout": "IPY_MODEL_de4a81527c7849fd9a2214a2af3280e5",
       "style": "IPY_MODEL_b3dbe6efac404467a74aa85964038ba1",
       "value": "1560 / 1560"
      }
     },
     "c40ddc1eb1924653806fc9bdeecefd97": {
      "model_module": "@jupyter-widgets/controls",
      "model_module_version": "1.5.0",
      "model_name": "DescriptionStyleModel",
      "state": {
       "description_width": ""
      }
     },
     "c431cb117f3b4af3b1ced6f3f5a4bf26": {
      "model_module": "@jupyter-widgets/base",
      "model_module_version": "1.2.0",
      "model_name": "LayoutModel",
      "state": {}
     },
     "c5a94225f0d041f8a181e5ae4bac0f0d": {
      "model_module": "@jupyter-widgets/controls",
      "model_module_version": "1.5.0",
      "model_name": "ProgressStyleModel",
      "state": {
       "description_width": ""
      }
     },
     "c665ef5a99f0498f8a4d5a3159bf5392": {
      "model_module": "@jupyter-widgets/base",
      "model_module_version": "1.2.0",
      "model_name": "LayoutModel",
      "state": {}
     },
     "c7780130cc414b3bb276295530091107": {
      "model_module": "@jupyter-widgets/controls",
      "model_module_version": "1.5.0",
      "model_name": "ProgressStyleModel",
      "state": {
       "description_width": ""
      }
     },
     "c7980407309a4b909e43076b8247b7d0": {
      "model_module": "@jupyter-widgets/controls",
      "model_module_version": "1.5.0",
      "model_name": "DescriptionStyleModel",
      "state": {
       "description_width": ""
      }
     },
     "c83f6e38d78b420e834da7968732d56b": {
      "model_module": "@jupyter-widgets/controls",
      "model_module_version": "1.5.0",
      "model_name": "DescriptionStyleModel",
      "state": {
       "description_width": ""
      }
     },
     "c85466ba74f64f209c50026e0002bfd0": {
      "model_module": "@jupyter-widgets/base",
      "model_module_version": "1.2.0",
      "model_name": "LayoutModel",
      "state": {}
     },
     "c9a0e11709ea44a6bd64656ce94ac56e": {
      "model_module": "@jupyter-widgets/controls",
      "model_module_version": "1.5.0",
      "model_name": "IntProgressModel",
      "state": {
       "bar_style": "success",
       "description": "100.00%",
       "layout": "IPY_MODEL_3510a5de1bda4f36b73510c3ad39f505",
       "max": 1559,
       "style": "IPY_MODEL_8b2677d1100343d6a0ca6a31e2d9d5d9",
       "value": 1559
      }
     },
     "c9d00dcc53d0451ab159895801717b32": {
      "model_module": "@jupyter-widgets/base",
      "model_module_version": "1.2.0",
      "model_name": "LayoutModel",
      "state": {}
     },
     "ca6c8522495b4b95b9222d12f3620dd3": {
      "model_module": "@jupyter-widgets/base",
      "model_module_version": "1.2.0",
      "model_name": "LayoutModel",
      "state": {}
     },
     "cb22c1959260465f98404e5e61fed3f7": {
      "model_module": "@jupyter-widgets/controls",
      "model_module_version": "1.5.0",
      "model_name": "LabelModel",
      "state": {
       "layout": "IPY_MODEL_51bd254d768443ff8ba01f975baf4943",
       "style": "IPY_MODEL_8fb32496317a4f3a9dd91724374d6f9a",
       "value": "1559 / 1559"
      }
     },
     "cbbc737cd09445f19189087641a2c50e": {
      "model_module": "@jupyter-widgets/controls",
      "model_module_version": "1.5.0",
      "model_name": "DescriptionStyleModel",
      "state": {
       "description_width": ""
      }
     },
     "cc320768142d4107a7f18c2760c71ec9": {
      "model_module": "@jupyter-widgets/controls",
      "model_module_version": "1.5.0",
      "model_name": "LabelModel",
      "state": {
       "layout": "IPY_MODEL_918ee32d15de436b9ba7da932ccb82d1",
       "style": "IPY_MODEL_093abf7054524aa7805492fe0a8c0e5a",
       "value": "1559 / 1559"
      }
     },
     "cc37f148d6b84128a0253f61895976cc": {
      "model_module": "@jupyter-widgets/controls",
      "model_module_version": "1.5.0",
      "model_name": "HBoxModel",
      "state": {
       "children": [
        "IPY_MODEL_5aa9803157d3451c91c47143bd760c4a",
        "IPY_MODEL_ae60f16449f64c0b8253c04fbceda497"
       ],
       "layout": "IPY_MODEL_221225fb88524d72a50d645d599ee600"
      }
     },
     "cc4b1314d18740de902981cb4d029ba2": {
      "model_module": "@jupyter-widgets/base",
      "model_module_version": "1.2.0",
      "model_name": "LayoutModel",
      "state": {}
     },
     "cc54e1d624bd49d884927f6d72ce22f7": {
      "model_module": "@jupyter-widgets/controls",
      "model_module_version": "1.5.0",
      "model_name": "HBoxModel",
      "state": {
       "children": [
        "IPY_MODEL_3647adaa5bc44386a433124aacabf498",
        "IPY_MODEL_c3af80b6b72e4a1ebbc332dd6d9696ad"
       ],
       "layout": "IPY_MODEL_a2134517ed724a4983d32614e7cfb887"
      }
     },
     "cca42043c4064d5bbcd6480cdf7d8a51": {
      "model_module": "@jupyter-widgets/controls",
      "model_module_version": "1.5.0",
      "model_name": "LabelModel",
      "state": {
       "layout": "IPY_MODEL_b9a624b717854f3eb214df25a310d2bb",
       "style": "IPY_MODEL_33203a8b6e3a4bffb53bc5a538442c39",
       "value": "1559 / 1559"
      }
     },
     "cd50e1655b6f45c4833f34d1b120f885": {
      "model_module": "@jupyter-widgets/controls",
      "model_module_version": "1.5.0",
      "model_name": "IntProgressModel",
      "state": {
       "bar_style": "success",
       "description": "100.00%",
       "layout": "IPY_MODEL_e6de85d30acd4a1d8bd01fc4ab78319c",
       "max": 1559,
       "style": "IPY_MODEL_b8f410188f9f4005be95105ff8f82f1e",
       "value": 1559
      }
     },
     "cdc98e39d4d44cebb86dc20182284c5f": {
      "model_module": "@jupyter-widgets/controls",
      "model_module_version": "1.5.0",
      "model_name": "HBoxModel",
      "state": {
       "children": [
        "IPY_MODEL_c9a0e11709ea44a6bd64656ce94ac56e",
        "IPY_MODEL_1749a647a0264f1c9547193f2af9c3d0"
       ],
       "layout": "IPY_MODEL_0f677e3e24b04a6d8d8c0f6e34e1ad97"
      }
     },
     "ce87174a83e04257aa40fb9c7ee6a91d": {
      "model_module": "@jupyter-widgets/base",
      "model_module_version": "1.2.0",
      "model_name": "LayoutModel",
      "state": {}
     },
     "cf367c4616564135aeef9351e6700a0f": {
      "model_module": "@jupyter-widgets/controls",
      "model_module_version": "1.5.0",
      "model_name": "ProgressStyleModel",
      "state": {
       "description_width": ""
      }
     },
     "d27a45cb3b96430995be998ad6795245": {
      "model_module": "@jupyter-widgets/base",
      "model_module_version": "1.2.0",
      "model_name": "LayoutModel",
      "state": {}
     },
     "d297d795b11846bab8c6750377c63604": {
      "model_module": "@jupyter-widgets/base",
      "model_module_version": "1.2.0",
      "model_name": "LayoutModel",
      "state": {}
     },
     "d53c1af15b504f5c8725084baaedde09": {
      "model_module": "@jupyter-widgets/controls",
      "model_module_version": "1.5.0",
      "model_name": "LabelModel",
      "state": {
       "layout": "IPY_MODEL_43022e3919f841a288dd00a510e6e03d",
       "style": "IPY_MODEL_46e84ffade914a628c7fd5bd037801ed",
       "value": "1560 / 1560"
      }
     },
     "d678e39e98df447e9e573e0f07694ec7": {
      "model_module": "@jupyter-widgets/controls",
      "model_module_version": "1.5.0",
      "model_name": "LabelModel",
      "state": {
       "layout": "IPY_MODEL_e984a69c58fa4f64b62eae3efbb10643",
       "style": "IPY_MODEL_aec0a1d2281849569741fbb74d3c3609",
       "value": "1559 / 1559"
      }
     },
     "d72d165e5ec34b7c8ac29e64ee5a462d": {
      "model_module": "@jupyter-widgets/base",
      "model_module_version": "1.2.0",
      "model_name": "LayoutModel",
      "state": {}
     },
     "d73910258f464a9a8d5fd9703b8f74a5": {
      "model_module": "@jupyter-widgets/controls",
      "model_module_version": "1.5.0",
      "model_name": "ProgressStyleModel",
      "state": {
       "description_width": ""
      }
     },
     "d766b93b777f492bb0d5999858996a8a": {
      "model_module": "@jupyter-widgets/base",
      "model_module_version": "1.2.0",
      "model_name": "LayoutModel",
      "state": {}
     },
     "d79153267c76492286f36dcde865dfbc": {
      "model_module": "@jupyter-widgets/base",
      "model_module_version": "1.2.0",
      "model_name": "LayoutModel",
      "state": {}
     },
     "d7c42df2e4ce4d4ebf1b00eda34f1e88": {
      "model_module": "@jupyter-widgets/controls",
      "model_module_version": "1.5.0",
      "model_name": "ProgressStyleModel",
      "state": {
       "description_width": ""
      }
     },
     "d83c34eb60d04e7881ab9e152bb26094": {
      "model_module": "@jupyter-widgets/base",
      "model_module_version": "1.2.0",
      "model_name": "LayoutModel",
      "state": {}
     },
     "d85aa9366d0a4b2892382289fde4c438": {
      "model_module": "@jupyter-widgets/base",
      "model_module_version": "1.2.0",
      "model_name": "LayoutModel",
      "state": {}
     },
     "d8e28ee1d1b44c57b95ed2e6ff0dbd1c": {
      "model_module": "@jupyter-widgets/controls",
      "model_module_version": "1.5.0",
      "model_name": "HBoxModel",
      "state": {
       "children": [
        "IPY_MODEL_e88ddad52ceb4e1d86f4fa45f9594419",
        "IPY_MODEL_bd162b4e44c749ee89d1151ac5a2be79"
       ],
       "layout": "IPY_MODEL_8e3a9ba2c6e34fea994f2ef4fc085bc2"
      }
     },
     "d9041365e6b944a188320285c498ed8f": {
      "model_module": "@jupyter-widgets/controls",
      "model_module_version": "1.5.0",
      "model_name": "HBoxModel",
      "state": {
       "children": [
        "IPY_MODEL_c28e3dc7ed564de0a1cfddb089e3b134",
        "IPY_MODEL_f6b1099a5c334c3aa4b6cbdc9e2ae804"
       ],
       "layout": "IPY_MODEL_b7b64e0271d543e1ac3dd8f61f53ff6a"
      }
     },
     "d97aa9fd112d44cc9fce2dae2f66408e": {
      "model_module": "@jupyter-widgets/controls",
      "model_module_version": "1.5.0",
      "model_name": "IntProgressModel",
      "state": {
       "bar_style": "success",
       "description": "100.00%",
       "layout": "IPY_MODEL_a92285cd59ef43ab82ed0a7f19e85f03",
       "max": 1559,
       "style": "IPY_MODEL_ad58cc6dec9141c5946bbd345f4f9324",
       "value": 1559
      }
     },
     "da0d0bbdda8e4514aa9759eade92c7bd": {
      "model_module": "@jupyter-widgets/base",
      "model_module_version": "1.2.0",
      "model_name": "LayoutModel",
      "state": {}
     },
     "db5112aa566c4239b371c15a9bf2c42f": {
      "model_module": "@jupyter-widgets/controls",
      "model_module_version": "1.5.0",
      "model_name": "DescriptionStyleModel",
      "state": {
       "description_width": ""
      }
     },
     "dbed76de6a4e4d3b8111eae662e4d19b": {
      "model_module": "@jupyter-widgets/base",
      "model_module_version": "1.2.0",
      "model_name": "LayoutModel",
      "state": {}
     },
     "dca58a6329884adf963b7503d4b5b970": {
      "model_module": "@jupyter-widgets/controls",
      "model_module_version": "1.5.0",
      "model_name": "IntProgressModel",
      "state": {
       "bar_style": "success",
       "description": "100.00%",
       "layout": "IPY_MODEL_d79153267c76492286f36dcde865dfbc",
       "max": 1559,
       "style": "IPY_MODEL_5c434bf68582405dbdb4b9ba29e34d91",
       "value": 1559
      }
     },
     "dccf7a721b9b43109f2a713932d313bf": {
      "model_module": "@jupyter-widgets/controls",
      "model_module_version": "1.5.0",
      "model_name": "IntProgressModel",
      "state": {
       "bar_style": "success",
       "description": "100.00%",
       "layout": "IPY_MODEL_4cc86d19d59b4bbe88362e5cddb3503e",
       "max": 1560,
       "style": "IPY_MODEL_33d3563971394acc8f86f727c017d999",
       "value": 1560
      }
     },
     "dd006d542360439a89fe9a0eb40c8fd5": {
      "model_module": "@jupyter-widgets/controls",
      "model_module_version": "1.5.0",
      "model_name": "LabelModel",
      "state": {
       "layout": "IPY_MODEL_16cf22be40d745608cf517e63cb9ca6d",
       "style": "IPY_MODEL_06458cd223144d378d789d08ee3ea2d1",
       "value": "1560 / 1560"
      }
     },
     "dd25fabeac0c492aa2adad1d1e74c175": {
      "model_module": "@jupyter-widgets/controls",
      "model_module_version": "1.5.0",
      "model_name": "HBoxModel",
      "state": {
       "children": [
        "IPY_MODEL_3812028ce8984f6cb93c49a37ecc587a",
        "IPY_MODEL_cb22c1959260465f98404e5e61fed3f7"
       ],
       "layout": "IPY_MODEL_861a53f911f24574b9afdbbce07c5894"
      }
     },
     "dd294e735a5246cdb0541c0ce217c46d": {
      "model_module": "@jupyter-widgets/controls",
      "model_module_version": "1.5.0",
      "model_name": "IntProgressModel",
      "state": {
       "bar_style": "success",
       "description": "100.00%",
       "layout": "IPY_MODEL_56eca85f1f714bc1ba420fb1efb5378d",
       "max": 1560,
       "style": "IPY_MODEL_b4ed1ee1048849e28986d222a164523d",
       "value": 1560
      }
     },
     "ddaaf095788c48b48305c7b40a659583": {
      "model_module": "@jupyter-widgets/controls",
      "model_module_version": "1.5.0",
      "model_name": "HBoxModel",
      "state": {
       "children": [
        "IPY_MODEL_47ebd11a80e3437fa70b95468ee8cc7d",
        "IPY_MODEL_6b6b643675a04bfcad531079de89ade4"
       ],
       "layout": "IPY_MODEL_241a7a8bfeec489689c7db73bea98a68"
      }
     },
     "de4a81527c7849fd9a2214a2af3280e5": {
      "model_module": "@jupyter-widgets/base",
      "model_module_version": "1.2.0",
      "model_name": "LayoutModel",
      "state": {}
     },
     "de53cee2c96b47b99c8f4e71966988a4": {
      "model_module": "@jupyter-widgets/controls",
      "model_module_version": "1.5.0",
      "model_name": "LabelModel",
      "state": {
       "layout": "IPY_MODEL_491d32a632124bb9a5f9f6a9a7cb1361",
       "style": "IPY_MODEL_84066a06bc1f4772930ad8bf7daf601c",
       "value": "1560 / 1560"
      }
     },
     "df1af8b3278043dd804c9e13c6a06869": {
      "model_module": "@jupyter-widgets/base",
      "model_module_version": "1.2.0",
      "model_name": "LayoutModel",
      "state": {}
     },
     "df90d9945a4b48c9a7da0c177b576b59": {
      "model_module": "@jupyter-widgets/base",
      "model_module_version": "1.2.0",
      "model_name": "LayoutModel",
      "state": {}
     },
     "e0fc989d9c7245a3ae5d83d173779bfd": {
      "model_module": "@jupyter-widgets/controls",
      "model_module_version": "1.5.0",
      "model_name": "LabelModel",
      "state": {
       "layout": "IPY_MODEL_b7ab7788b6f54ee89c7b2823c50066ab",
       "style": "IPY_MODEL_53268d6e898342c9b9c9fe072711ba18",
       "value": "1560 / 1560"
      }
     },
     "e15aad09a0dc40eea53b41b4c8c84086": {
      "model_module": "@jupyter-widgets/controls",
      "model_module_version": "1.5.0",
      "model_name": "IntProgressModel",
      "state": {
       "bar_style": "success",
       "description": "100.00%",
       "layout": "IPY_MODEL_086c1fba1b3b48659fadff4aadd0c4d1",
       "max": 1559,
       "style": "IPY_MODEL_03221780f9c1411d8f0781f8ad627ae8",
       "value": 1559
      }
     },
     "e1dccd861a504ae9b41e07140d7b6313": {
      "model_module": "@jupyter-widgets/base",
      "model_module_version": "1.2.0",
      "model_name": "LayoutModel",
      "state": {}
     },
     "e2c2ac272dea4bf5bfa07fc2ddb07498": {
      "model_module": "@jupyter-widgets/base",
      "model_module_version": "1.2.0",
      "model_name": "LayoutModel",
      "state": {}
     },
     "e32cdd26888140f981f8ef85eb257d67": {
      "model_module": "@jupyter-widgets/controls",
      "model_module_version": "1.5.0",
      "model_name": "DescriptionStyleModel",
      "state": {
       "description_width": ""
      }
     },
     "e3460686336c462bbdae71af5f523fab": {
      "model_module": "@jupyter-widgets/controls",
      "model_module_version": "1.5.0",
      "model_name": "HBoxModel",
      "state": {
       "children": [
        "IPY_MODEL_6ab14ed1fe67412b9f8e7386349a9258",
        "IPY_MODEL_f83986a16f3e4c7ca6ae3193639535fc"
       ],
       "layout": "IPY_MODEL_1c346ea6ca564aa4b058dc72a3d42918"
      }
     },
     "e358d6a9e881450789930f7c76754acb": {
      "model_module": "@jupyter-widgets/base",
      "model_module_version": "1.2.0",
      "model_name": "LayoutModel",
      "state": {}
     },
     "e439eca7735a49808c67e5bd99ba0ddf": {
      "model_module": "@jupyter-widgets/controls",
      "model_module_version": "1.5.0",
      "model_name": "LabelModel",
      "state": {
       "layout": "IPY_MODEL_500ad77dcd41446281978e1becb42db7",
       "style": "IPY_MODEL_52e16b687583449693c40630441ed461",
       "value": "1560 / 1560"
      }
     },
     "e4f73f1fb9ac45abba26e3b8d714eb0c": {
      "model_module": "@jupyter-widgets/controls",
      "model_module_version": "1.5.0",
      "model_name": "IntProgressModel",
      "state": {
       "bar_style": "success",
       "description": "100.00%",
       "layout": "IPY_MODEL_b2bc334d23ce4297acd30765b15041b6",
       "max": 1559,
       "style": "IPY_MODEL_6356c257e71b462dbb8d55cf3d64f5a1",
       "value": 1559
      }
     },
     "e4fd0e0c457d4b2c97817cbe5821ee2b": {
      "model_module": "@jupyter-widgets/controls",
      "model_module_version": "1.5.0",
      "model_name": "DescriptionStyleModel",
      "state": {
       "description_width": ""
      }
     },
     "e523ed6541ae4858985ecbd434441d17": {
      "model_module": "@jupyter-widgets/base",
      "model_module_version": "1.2.0",
      "model_name": "LayoutModel",
      "state": {}
     },
     "e5310aa0ceab4dd5bb029a77e20b4ad0": {
      "model_module": "@jupyter-widgets/base",
      "model_module_version": "1.2.0",
      "model_name": "LayoutModel",
      "state": {}
     },
     "e5dc5520cba54856bba3bc60f407cae6": {
      "model_module": "@jupyter-widgets/base",
      "model_module_version": "1.2.0",
      "model_name": "LayoutModel",
      "state": {}
     },
     "e6d04eed455e4a928601ce6985eeab8d": {
      "model_module": "@jupyter-widgets/controls",
      "model_module_version": "1.5.0",
      "model_name": "ProgressStyleModel",
      "state": {
       "description_width": ""
      }
     },
     "e6de85d30acd4a1d8bd01fc4ab78319c": {
      "model_module": "@jupyter-widgets/base",
      "model_module_version": "1.2.0",
      "model_name": "LayoutModel",
      "state": {}
     },
     "e73ecf80adef4bb88a2053cd9240ce4d": {
      "model_module": "@jupyter-widgets/controls",
      "model_module_version": "1.5.0",
      "model_name": "HBoxModel",
      "state": {
       "children": [
        "IPY_MODEL_ac98a2786b56480c87d2c7162cc12f32",
        "IPY_MODEL_1fb32253cc7c4f3694c54e2c6a289530"
       ],
       "layout": "IPY_MODEL_bc50a12d4207497589d6edec5394d3d2"
      }
     },
     "e7fbfb8be6054ed9b01c281ba48bdb89": {
      "model_module": "@jupyter-widgets/controls",
      "model_module_version": "1.5.0",
      "model_name": "LabelModel",
      "state": {
       "layout": "IPY_MODEL_6d7dcc25f6ee4c48b04e32b272c36eb0",
       "style": "IPY_MODEL_2fbf43479acb49ed890c2d525c578be5",
       "value": "1560 / 1560"
      }
     },
     "e80a69b86f61432886dd32b3e8966339": {
      "model_module": "@jupyter-widgets/base",
      "model_module_version": "1.2.0",
      "model_name": "LayoutModel",
      "state": {}
     },
     "e86c3fcc56314d98a3cfbea9afaefe74": {
      "model_module": "@jupyter-widgets/controls",
      "model_module_version": "1.5.0",
      "model_name": "LabelModel",
      "state": {
       "layout": "IPY_MODEL_14215cc6f258448bb23bd818b1e1c0ce",
       "style": "IPY_MODEL_4c3f23d8398a49bba6429c8a2be8a679",
       "value": "1560 / 1560"
      }
     },
     "e88ddad52ceb4e1d86f4fa45f9594419": {
      "model_module": "@jupyter-widgets/controls",
      "model_module_version": "1.5.0",
      "model_name": "IntProgressModel",
      "state": {
       "bar_style": "success",
       "description": "100.00%",
       "layout": "IPY_MODEL_60d40bd206f44c298f6f8445c758536f",
       "max": 1559,
       "style": "IPY_MODEL_56bb3f72060d434596c9c3a4b0d4ee91",
       "value": 1559
      }
     },
     "e94ef496dc4347279a7a984bb88a04d5": {
      "model_module": "@jupyter-widgets/base",
      "model_module_version": "1.2.0",
      "model_name": "LayoutModel",
      "state": {}
     },
     "e984a69c58fa4f64b62eae3efbb10643": {
      "model_module": "@jupyter-widgets/base",
      "model_module_version": "1.2.0",
      "model_name": "LayoutModel",
      "state": {}
     },
     "e99e8a63ebe34a939d17046c2dfcf60a": {
      "model_module": "@jupyter-widgets/controls",
      "model_module_version": "1.5.0",
      "model_name": "LabelModel",
      "state": {
       "layout": "IPY_MODEL_45f393c593ef44f29768e271ef16c147",
       "style": "IPY_MODEL_9dd51f8e17654512ab55a510b3f280a9",
       "value": "1560 / 1560"
      }
     },
     "e9aafa45cf3b426abf5dcbb3bd462622": {
      "model_module": "@jupyter-widgets/controls",
      "model_module_version": "1.5.0",
      "model_name": "LabelModel",
      "state": {
       "layout": "IPY_MODEL_87e19e2370aa4a4d927b0cc2186e3ba8",
       "style": "IPY_MODEL_e32cdd26888140f981f8ef85eb257d67",
       "value": "1560 / 1560"
      }
     },
     "eadb45b4904149e18d04f2e68ca5c6a4": {
      "model_module": "@jupyter-widgets/base",
      "model_module_version": "1.2.0",
      "model_name": "LayoutModel",
      "state": {}
     },
     "eb29406b63d84d45bbd392cbfe70a49f": {
      "model_module": "@jupyter-widgets/base",
      "model_module_version": "1.2.0",
      "model_name": "LayoutModel",
      "state": {}
     },
     "ebba220591284e9dae0b9e1cad9f928e": {
      "model_module": "@jupyter-widgets/controls",
      "model_module_version": "1.5.0",
      "model_name": "IntProgressModel",
      "state": {
       "bar_style": "success",
       "description": "100.00%",
       "layout": "IPY_MODEL_aa58471a48fd497496e26a36e28b3e5b",
       "max": 1559,
       "style": "IPY_MODEL_a08063e7d6f04488a34e33b73a63a745",
       "value": 1559
      }
     },
     "eca3e65bf4974655950cea677fa8954b": {
      "model_module": "@jupyter-widgets/base",
      "model_module_version": "1.2.0",
      "model_name": "LayoutModel",
      "state": {}
     },
     "ed5c7e6570384eb5972890e834155719": {
      "model_module": "@jupyter-widgets/base",
      "model_module_version": "1.2.0",
      "model_name": "LayoutModel",
      "state": {}
     },
     "edc3b909a8e0460a95d951c357bfc071": {
      "model_module": "@jupyter-widgets/controls",
      "model_module_version": "1.5.0",
      "model_name": "HBoxModel",
      "state": {
       "children": [
        "IPY_MODEL_e4f73f1fb9ac45abba26e3b8d714eb0c",
        "IPY_MODEL_ede1d8d360164adc844bbc23aeabf5c4"
       ],
       "layout": "IPY_MODEL_12001d3b60524cdbb9892a8badc427ed"
      }
     },
     "ede1d8d360164adc844bbc23aeabf5c4": {
      "model_module": "@jupyter-widgets/controls",
      "model_module_version": "1.5.0",
      "model_name": "LabelModel",
      "state": {
       "layout": "IPY_MODEL_e94ef496dc4347279a7a984bb88a04d5",
       "style": "IPY_MODEL_4d307677818641d2a2e5b01da2062b32",
       "value": "1559 / 1559"
      }
     },
     "ef84964c346449ada736fd1910062ac1": {
      "model_module": "@jupyter-widgets/controls",
      "model_module_version": "1.5.0",
      "model_name": "HBoxModel",
      "state": {
       "children": [
        "IPY_MODEL_ae3f36a831a54374b67164939d43f434",
        "IPY_MODEL_bc5173f683b94ae1960c9d11ae7425a9"
       ],
       "layout": "IPY_MODEL_37941ea3d44749019d0dbe8f3bd32e24"
      }
     },
     "f0c1a12f4e8448ceaba1671a9b8adf17": {
      "model_module": "@jupyter-widgets/controls",
      "model_module_version": "1.5.0",
      "model_name": "HBoxModel",
      "state": {
       "children": [
        "IPY_MODEL_6f34eb89283f4ef0a446ad6ffb7c0abd",
        "IPY_MODEL_205b18e7da634b9fbba0eb3ef5d42ae1"
       ],
       "layout": "IPY_MODEL_5afc0701b94145e7a3cf1b72605f8c18"
      }
     },
     "f1461326292e4e7eb6dab31aac062cdd": {
      "model_module": "@jupyter-widgets/base",
      "model_module_version": "1.2.0",
      "model_name": "LayoutModel",
      "state": {}
     },
     "f1ce269736154b7499a0a89fb5adf719": {
      "model_module": "@jupyter-widgets/controls",
      "model_module_version": "1.5.0",
      "model_name": "ProgressStyleModel",
      "state": {
       "description_width": ""
      }
     },
     "f1ff2af65fd84d028c7ab19307117716": {
      "model_module": "@jupyter-widgets/controls",
      "model_module_version": "1.5.0",
      "model_name": "ProgressStyleModel",
      "state": {
       "description_width": ""
      }
     },
     "f4eabbe6b646437096007c13150798a7": {
      "model_module": "@jupyter-widgets/base",
      "model_module_version": "1.2.0",
      "model_name": "LayoutModel",
      "state": {}
     },
     "f58dd38da993481da8d0945dc6e095a0": {
      "model_module": "@jupyter-widgets/controls",
      "model_module_version": "1.5.0",
      "model_name": "HBoxModel",
      "state": {
       "children": [
        "IPY_MODEL_ac119e87ab1f413381236f12c6590377",
        "IPY_MODEL_53d9efbe08844e389d8e7db9d58ee0d6"
       ],
       "layout": "IPY_MODEL_eca3e65bf4974655950cea677fa8954b"
      }
     },
     "f6b1099a5c334c3aa4b6cbdc9e2ae804": {
      "model_module": "@jupyter-widgets/controls",
      "model_module_version": "1.5.0",
      "model_name": "LabelModel",
      "state": {
       "layout": "IPY_MODEL_ff934a44e3f0491a9b7cd467a7b97ee2",
       "style": "IPY_MODEL_059160cd79e947f68da59170f2fb1b84",
       "value": "1559 / 1559"
      }
     },
     "f6fa4f1d4661420cb2e61eb7c0371ff2": {
      "model_module": "@jupyter-widgets/controls",
      "model_module_version": "1.5.0",
      "model_name": "DescriptionStyleModel",
      "state": {
       "description_width": ""
      }
     },
     "f7087cc8a0114574b50ceac76a4456da": {
      "model_module": "@jupyter-widgets/base",
      "model_module_version": "1.2.0",
      "model_name": "LayoutModel",
      "state": {}
     },
     "f83024058c8e4905a7e3b44d2fcb6a08": {
      "model_module": "@jupyter-widgets/controls",
      "model_module_version": "1.5.0",
      "model_name": "LabelModel",
      "state": {
       "layout": "IPY_MODEL_f7087cc8a0114574b50ceac76a4456da",
       "style": "IPY_MODEL_80fa01644b3349038d614503a94ec4ef",
       "value": "1559 / 1559"
      }
     },
     "f83986a16f3e4c7ca6ae3193639535fc": {
      "model_module": "@jupyter-widgets/controls",
      "model_module_version": "1.5.0",
      "model_name": "LabelModel",
      "state": {
       "layout": "IPY_MODEL_6997d76590a64361b5426eb530a2f968",
       "style": "IPY_MODEL_c40ddc1eb1924653806fc9bdeecefd97",
       "value": "1560 / 1560"
      }
     },
     "f85e91c0568148e2acfdaade788d07ae": {
      "model_module": "@jupyter-widgets/base",
      "model_module_version": "1.2.0",
      "model_name": "LayoutModel",
      "state": {}
     },
     "f9f225f78e0c40198cc04ddfa7005a59": {
      "model_module": "@jupyter-widgets/base",
      "model_module_version": "1.2.0",
      "model_name": "LayoutModel",
      "state": {}
     },
     "f9f2f09fbf524f079f3e6ce810a326d6": {
      "model_module": "@jupyter-widgets/controls",
      "model_module_version": "1.5.0",
      "model_name": "IntProgressModel",
      "state": {
       "bar_style": "success",
       "description": "100.00%",
       "layout": "IPY_MODEL_5d37b879c10540ef94076a139dfd04c1",
       "max": 1560,
       "style": "IPY_MODEL_85b11778594746c6bfbbcbd01e6191d2",
       "value": 1560
      }
     },
     "fa3496398ed0400fb37929e943eedd6f": {
      "model_module": "@jupyter-widgets/controls",
      "model_module_version": "1.5.0",
      "model_name": "LabelModel",
      "state": {
       "layout": "IPY_MODEL_0a1e27d31d47468184a19522c2565415",
       "style": "IPY_MODEL_6d9a88d9f2414351a7729321a5136230",
       "value": "1560 / 1560"
      }
     },
     "fb517e51202f4eb38e5b69a2fcd851c3": {
      "model_module": "@jupyter-widgets/controls",
      "model_module_version": "1.5.0",
      "model_name": "DescriptionStyleModel",
      "state": {
       "description_width": ""
      }
     },
     "fb5ff0784bf8496cb03e46eaad020c44": {
      "model_module": "@jupyter-widgets/base",
      "model_module_version": "1.2.0",
      "model_name": "LayoutModel",
      "state": {}
     },
     "fbb275b6f7484eeb887e5bd7c832bc73": {
      "model_module": "@jupyter-widgets/controls",
      "model_module_version": "1.5.0",
      "model_name": "IntProgressModel",
      "state": {
       "bar_style": "success",
       "description": "100.00%",
       "layout": "IPY_MODEL_eb29406b63d84d45bbd392cbfe70a49f",
       "max": 1560,
       "style": "IPY_MODEL_b145efaee32744ab87e61e876f98ed07",
       "value": 1560
      }
     },
     "fbc7e35ecf464059a92a977cb6340a21": {
      "model_module": "@jupyter-widgets/base",
      "model_module_version": "1.2.0",
      "model_name": "LayoutModel",
      "state": {}
     },
     "fbf2edf149f24213b37e9562bc54c474": {
      "model_module": "@jupyter-widgets/controls",
      "model_module_version": "1.5.0",
      "model_name": "ProgressStyleModel",
      "state": {
       "description_width": ""
      }
     },
     "fc39e145b7d1415aa9b417c991295c27": {
      "model_module": "@jupyter-widgets/controls",
      "model_module_version": "1.5.0",
      "model_name": "DescriptionStyleModel",
      "state": {
       "description_width": ""
      }
     },
     "fcae43309a8141e08d7d0593878175ea": {
      "model_module": "@jupyter-widgets/base",
      "model_module_version": "1.2.0",
      "model_name": "LayoutModel",
      "state": {}
     },
     "fcb112da04da4f92bbbb25dcda31523b": {
      "model_module": "@jupyter-widgets/controls",
      "model_module_version": "1.5.0",
      "model_name": "DescriptionStyleModel",
      "state": {
       "description_width": ""
      }
     },
     "ff0c529426874603baef780dd3d1a616": {
      "model_module": "@jupyter-widgets/controls",
      "model_module_version": "1.5.0",
      "model_name": "HBoxModel",
      "state": {
       "children": [
        "IPY_MODEL_7f2795f8f16446db8063c713d5a6fb25",
        "IPY_MODEL_6929f0b7f69647fcb2e994f1de155807"
       ],
       "layout": "IPY_MODEL_c1fd6313302c472ea963de98898f76c4"
      }
     },
     "ff0eed865840405aa5a9c759c3d8bf42": {
      "model_module": "@jupyter-widgets/controls",
      "model_module_version": "1.5.0",
      "model_name": "HBoxModel",
      "state": {
       "children": [
        "IPY_MODEL_51d4b8501055405589743e4f3f815aee",
        "IPY_MODEL_e9aafa45cf3b426abf5dcbb3bd462622"
       ],
       "layout": "IPY_MODEL_e5310aa0ceab4dd5bb029a77e20b4ad0"
      }
     },
     "ff1c96c65cb14f99bd01bbc54603ec22": {
      "model_module": "@jupyter-widgets/controls",
      "model_module_version": "1.5.0",
      "model_name": "HBoxModel",
      "state": {
       "children": [
        "IPY_MODEL_6dbe9f985c3f475d9cf014fa7be95432",
        "IPY_MODEL_a84f63d833434782a550f2928ade7b62"
       ],
       "layout": "IPY_MODEL_4f4f3c7646fe45659cd7fa7bf1573ad2"
      }
     },
     "ff934a44e3f0491a9b7cd467a7b97ee2": {
      "model_module": "@jupyter-widgets/base",
      "model_module_version": "1.2.0",
      "model_name": "LayoutModel",
      "state": {}
     }
    },
    "version_major": 2,
    "version_minor": 0
   }
  }
 },
 "nbformat": 4,
 "nbformat_minor": 5
}
